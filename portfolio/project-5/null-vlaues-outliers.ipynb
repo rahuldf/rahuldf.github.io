{
 "cells": [
  {
   "cell_type": "markdown",
   "metadata": {},
   "source": [
    "In this notebook, I will fill in the NULL values of the given dataset and then check for and fix any outliers."
   ]
  },
  {
   "cell_type": "code",
   "execution_count": 1,
   "metadata": {},
   "outputs": [],
   "source": [
    "# Import libraries\n",
    "import pandas as pd\n",
    "import numpy as np\n",
    "import matplotlib.pyplot as plt\n",
    "%matplotlib inline"
   ]
  },
  {
   "cell_type": "code",
   "execution_count": 2,
   "metadata": {},
   "outputs": [
    {
     "data": {
      "text/html": [
       "<div>\n",
       "<style scoped>\n",
       "    .dataframe tbody tr th:only-of-type {\n",
       "        vertical-align: middle;\n",
       "    }\n",
       "\n",
       "    .dataframe tbody tr th {\n",
       "        vertical-align: top;\n",
       "    }\n",
       "\n",
       "    .dataframe thead th {\n",
       "        text-align: right;\n",
       "    }\n",
       "</style>\n",
       "<table border=\"1\" class=\"dataframe\">\n",
       "  <thead>\n",
       "    <tr style=\"text-align: right;\">\n",
       "      <th></th>\n",
       "      <th>First Name</th>\n",
       "      <th>Gender</th>\n",
       "      <th>Salary</th>\n",
       "      <th>Bonus %</th>\n",
       "      <th>Senior Management</th>\n",
       "      <th>Team</th>\n",
       "      <th>Spending Score</th>\n",
       "      <th>Edu level</th>\n",
       "      <th>No Of Family members</th>\n",
       "      <th>DOB</th>\n",
       "      <th>Owns Vehicle</th>\n",
       "    </tr>\n",
       "  </thead>\n",
       "  <tbody>\n",
       "    <tr>\n",
       "      <th>0</th>\n",
       "      <td>Douglas</td>\n",
       "      <td>Male</td>\n",
       "      <td>97308</td>\n",
       "      <td>6.945</td>\n",
       "      <td>TRUE</td>\n",
       "      <td>Marketing</td>\n",
       "      <td>39.0</td>\n",
       "      <td>1.0</td>\n",
       "      <td>2.0</td>\n",
       "      <td>04-11-1995</td>\n",
       "      <td>Yes</td>\n",
       "    </tr>\n",
       "    <tr>\n",
       "      <th>1</th>\n",
       "      <td>Thomas</td>\n",
       "      <td>Male</td>\n",
       "      <td>61933</td>\n",
       "      <td>4.17</td>\n",
       "      <td>TRUE</td>\n",
       "      <td>NaN</td>\n",
       "      <td>81.0</td>\n",
       "      <td>4.0</td>\n",
       "      <td>5.0</td>\n",
       "      <td>01-08-1994</td>\n",
       "      <td>NaN</td>\n",
       "    </tr>\n",
       "    <tr>\n",
       "      <th>2</th>\n",
       "      <td>Maria</td>\n",
       "      <td>Female</td>\n",
       "      <td>130590</td>\n",
       "      <td>11.858</td>\n",
       "      <td>FALSE</td>\n",
       "      <td>Finance</td>\n",
       "      <td>6.0</td>\n",
       "      <td>5.0</td>\n",
       "      <td>3.0</td>\n",
       "      <td>14-10-2018</td>\n",
       "      <td>NaN</td>\n",
       "    </tr>\n",
       "    <tr>\n",
       "      <th>3</th>\n",
       "      <td>Jerry</td>\n",
       "      <td>Male</td>\n",
       "      <td>138705</td>\n",
       "      <td>9.34</td>\n",
       "      <td>TRUE</td>\n",
       "      <td>Finance</td>\n",
       "      <td>77.0</td>\n",
       "      <td>2.0</td>\n",
       "      <td>3.0</td>\n",
       "      <td>18-05-1993</td>\n",
       "      <td>NaN</td>\n",
       "    </tr>\n",
       "    <tr>\n",
       "      <th>4</th>\n",
       "      <td>Larry</td>\n",
       "      <td>Male</td>\n",
       "      <td>101004</td>\n",
       "      <td>1.389</td>\n",
       "      <td>&amp;&amp;&amp;&amp;&amp;&amp;</td>\n",
       "      <td>Client Services</td>\n",
       "      <td>40.0</td>\n",
       "      <td>4.0</td>\n",
       "      <td>6.0</td>\n",
       "      <td>28-02-1986</td>\n",
       "      <td>NaN</td>\n",
       "    </tr>\n",
       "  </tbody>\n",
       "</table>\n",
       "</div>"
      ],
      "text/plain": [
       "  First Name  Gender  Salary Bonus % Senior Management             Team  \\\n",
       "0    Douglas    Male   97308   6.945              TRUE        Marketing   \n",
       "1     Thomas    Male   61933    4.17              TRUE              NaN   \n",
       "2      Maria  Female  130590  11.858             FALSE          Finance   \n",
       "3      Jerry    Male  138705    9.34              TRUE          Finance   \n",
       "4      Larry    Male  101004   1.389            &&&&&&  Client Services   \n",
       "\n",
       "   Spending Score  Edu level  No Of Family members         DOB Owns Vehicle  \n",
       "0            39.0        1.0                   2.0  04-11-1995          Yes  \n",
       "1            81.0        4.0                   5.0  01-08-1994          NaN  \n",
       "2             6.0        5.0                   3.0  14-10-2018          NaN  \n",
       "3            77.0        2.0                   3.0  18-05-1993          NaN  \n",
       "4            40.0        4.0                   6.0  28-02-1986          NaN  "
      ]
     },
     "execution_count": 2,
     "metadata": {},
     "output_type": "execute_result"
    }
   ],
   "source": [
    "# Reading the data\n",
    "df = pd.read_csv('data.csv', header=0)\n",
    "df.head()"
   ]
  },
  {
   "cell_type": "code",
   "execution_count": 3,
   "metadata": {},
   "outputs": [
    {
     "name": "stdout",
     "output_type": "stream",
     "text": [
      "<class 'pandas.core.frame.DataFrame'>\n",
      "RangeIndex: 100 entries, 0 to 99\n",
      "Data columns (total 11 columns):\n",
      " #   Column                Non-Null Count  Dtype  \n",
      "---  ------                --------------  -----  \n",
      " 0   First Name            100 non-null    object \n",
      " 1   Gender                80 non-null     object \n",
      " 2   Salary                98 non-null     object \n",
      " 3   Bonus %               98 non-null     object \n",
      " 4   Senior Management     92 non-null     object \n",
      " 5   Team                  93 non-null     object \n",
      " 6   Spending Score        95 non-null     float64\n",
      " 7   Edu level             97 non-null     float64\n",
      " 8   No Of Family members  96 non-null     float64\n",
      " 9   DOB                   98 non-null     object \n",
      " 10  Owns Vehicle          36 non-null     object \n",
      "dtypes: float64(3), object(8)\n",
      "memory usage: 8.7+ KB\n"
     ]
    }
   ],
   "source": [
    "df.info()"
   ]
  },
  {
   "cell_type": "code",
   "execution_count": 4,
   "metadata": {},
   "outputs": [
    {
     "name": "stdout",
     "output_type": "stream",
     "text": [
      "First Name               0\n",
      "Gender                  20\n",
      "Salary                   2\n",
      "Bonus %                  2\n",
      "Senior Management        8\n",
      "Team                     7\n",
      "Spending Score           5\n",
      "Edu level                3\n",
      "No Of Family members     4\n",
      "DOB                      2\n",
      "Owns Vehicle            64\n",
      "dtype: int64\n",
      "\n",
      "Total Null Values: 117\n"
     ]
    }
   ],
   "source": [
    "print(df.isna().sum())\n",
    "print('\\nTotal Null Values:',df.isna().sum().sum())"
   ]
  },
  {
   "cell_type": "markdown",
   "metadata": {},
   "source": [
    "#### On checking the data, it's found that we have some cells with grabage values like \"&&&&&&\" and \"######\". Removing these values"
   ]
  },
  {
   "cell_type": "code",
   "execution_count": 5,
   "metadata": {},
   "outputs": [
    {
     "data": {
      "text/html": [
       "<div>\n",
       "<style scoped>\n",
       "    .dataframe tbody tr th:only-of-type {\n",
       "        vertical-align: middle;\n",
       "    }\n",
       "\n",
       "    .dataframe tbody tr th {\n",
       "        vertical-align: top;\n",
       "    }\n",
       "\n",
       "    .dataframe thead th {\n",
       "        text-align: right;\n",
       "    }\n",
       "</style>\n",
       "<table border=\"1\" class=\"dataframe\">\n",
       "  <thead>\n",
       "    <tr style=\"text-align: right;\">\n",
       "      <th></th>\n",
       "      <th>First Name</th>\n",
       "      <th>Gender</th>\n",
       "      <th>Salary</th>\n",
       "      <th>Bonus %</th>\n",
       "      <th>Senior Management</th>\n",
       "      <th>Team</th>\n",
       "      <th>Spending Score</th>\n",
       "      <th>Edu level</th>\n",
       "      <th>No Of Family members</th>\n",
       "      <th>DOB</th>\n",
       "      <th>Owns Vehicle</th>\n",
       "    </tr>\n",
       "  </thead>\n",
       "  <tbody>\n",
       "    <tr>\n",
       "      <th>0</th>\n",
       "      <td>Douglas</td>\n",
       "      <td>Male</td>\n",
       "      <td>97308.0</td>\n",
       "      <td>6.945</td>\n",
       "      <td>True</td>\n",
       "      <td>Marketing</td>\n",
       "      <td>39.0</td>\n",
       "      <td>1.0</td>\n",
       "      <td>2.0</td>\n",
       "      <td>04-11-1995</td>\n",
       "      <td>Yes</td>\n",
       "    </tr>\n",
       "    <tr>\n",
       "      <th>1</th>\n",
       "      <td>Thomas</td>\n",
       "      <td>Male</td>\n",
       "      <td>61933.0</td>\n",
       "      <td>4.170</td>\n",
       "      <td>True</td>\n",
       "      <td>NaN</td>\n",
       "      <td>81.0</td>\n",
       "      <td>4.0</td>\n",
       "      <td>5.0</td>\n",
       "      <td>01-08-1994</td>\n",
       "      <td>NaN</td>\n",
       "    </tr>\n",
       "    <tr>\n",
       "      <th>2</th>\n",
       "      <td>Maria</td>\n",
       "      <td>Female</td>\n",
       "      <td>130590.0</td>\n",
       "      <td>11.858</td>\n",
       "      <td>False</td>\n",
       "      <td>Finance</td>\n",
       "      <td>6.0</td>\n",
       "      <td>5.0</td>\n",
       "      <td>3.0</td>\n",
       "      <td>14-10-2018</td>\n",
       "      <td>NaN</td>\n",
       "    </tr>\n",
       "    <tr>\n",
       "      <th>3</th>\n",
       "      <td>Jerry</td>\n",
       "      <td>Male</td>\n",
       "      <td>138705.0</td>\n",
       "      <td>9.340</td>\n",
       "      <td>True</td>\n",
       "      <td>Finance</td>\n",
       "      <td>77.0</td>\n",
       "      <td>2.0</td>\n",
       "      <td>3.0</td>\n",
       "      <td>18-05-1993</td>\n",
       "      <td>NaN</td>\n",
       "    </tr>\n",
       "    <tr>\n",
       "      <th>4</th>\n",
       "      <td>Larry</td>\n",
       "      <td>Male</td>\n",
       "      <td>101004.0</td>\n",
       "      <td>1.389</td>\n",
       "      <td>NaN</td>\n",
       "      <td>Client Services</td>\n",
       "      <td>40.0</td>\n",
       "      <td>4.0</td>\n",
       "      <td>6.0</td>\n",
       "      <td>28-02-1986</td>\n",
       "      <td>NaN</td>\n",
       "    </tr>\n",
       "  </tbody>\n",
       "</table>\n",
       "</div>"
      ],
      "text/plain": [
       "  First Name  Gender    Salary  Bonus % Senior Management             Team  \\\n",
       "0    Douglas    Male   97308.0    6.945              True        Marketing   \n",
       "1     Thomas    Male   61933.0    4.170              True              NaN   \n",
       "2      Maria  Female  130590.0   11.858             False          Finance   \n",
       "3      Jerry    Male  138705.0    9.340              True          Finance   \n",
       "4      Larry    Male  101004.0    1.389               NaN  Client Services   \n",
       "\n",
       "   Spending Score  Edu level  No Of Family members         DOB Owns Vehicle  \n",
       "0            39.0        1.0                   2.0  04-11-1995          Yes  \n",
       "1            81.0        4.0                   5.0  01-08-1994          NaN  \n",
       "2             6.0        5.0                   3.0  14-10-2018          NaN  \n",
       "3            77.0        2.0                   3.0  18-05-1993          NaN  \n",
       "4            40.0        4.0                   6.0  28-02-1986          NaN  "
      ]
     },
     "execution_count": 5,
     "metadata": {},
     "output_type": "execute_result"
    }
   ],
   "source": [
    "garbage = ['&&&&&&', '######']\n",
    "df = pd.read_csv('data.csv', header=0, na_values = garbage)\n",
    "df.head()"
   ]
  },
  {
   "cell_type": "code",
   "execution_count": 6,
   "metadata": {},
   "outputs": [
    {
     "name": "stdout",
     "output_type": "stream",
     "text": [
      "First Name               0\n",
      "Gender                  22\n",
      "Salary                   7\n",
      "Bonus %                  3\n",
      "Senior Management        9\n",
      "Team                    10\n",
      "Spending Score           5\n",
      "Edu level                3\n",
      "No Of Family members     4\n",
      "DOB                      2\n",
      "Owns Vehicle            64\n",
      "dtype: int64\n",
      "\n",
      "Total Null Values: 129\n"
     ]
    }
   ],
   "source": [
    "print(df.isna().sum())\n",
    "print('\\nTotal Null Values:',df.isna().sum().sum())"
   ]
  },
  {
   "cell_type": "markdown",
   "metadata": {},
   "source": [
    "#### So we have total 129 NaN values."
   ]
  },
  {
   "cell_type": "code",
   "execution_count": 7,
   "metadata": {
    "scrolled": true
   },
   "outputs": [
    {
     "data": {
      "text/html": [
       "<div>\n",
       "<style scoped>\n",
       "    .dataframe tbody tr th:only-of-type {\n",
       "        vertical-align: middle;\n",
       "    }\n",
       "\n",
       "    .dataframe tbody tr th {\n",
       "        vertical-align: top;\n",
       "    }\n",
       "\n",
       "    .dataframe thead th {\n",
       "        text-align: right;\n",
       "    }\n",
       "</style>\n",
       "<table border=\"1\" class=\"dataframe\">\n",
       "  <thead>\n",
       "    <tr style=\"text-align: right;\">\n",
       "      <th></th>\n",
       "      <th>First Name</th>\n",
       "      <th>Gender</th>\n",
       "      <th>Salary</th>\n",
       "      <th>Bonus %</th>\n",
       "      <th>Senior Management</th>\n",
       "      <th>Team</th>\n",
       "      <th>Spending Score</th>\n",
       "      <th>Edu level</th>\n",
       "      <th>No Of Family members</th>\n",
       "      <th>DOB</th>\n",
       "    </tr>\n",
       "  </thead>\n",
       "  <tbody>\n",
       "    <tr>\n",
       "      <th>0</th>\n",
       "      <td>Douglas</td>\n",
       "      <td>Male</td>\n",
       "      <td>97308.0</td>\n",
       "      <td>6.945</td>\n",
       "      <td>True</td>\n",
       "      <td>Marketing</td>\n",
       "      <td>39.0</td>\n",
       "      <td>1.0</td>\n",
       "      <td>2.0</td>\n",
       "      <td>04-11-1995</td>\n",
       "    </tr>\n",
       "    <tr>\n",
       "      <th>1</th>\n",
       "      <td>Thomas</td>\n",
       "      <td>Male</td>\n",
       "      <td>61933.0</td>\n",
       "      <td>4.170</td>\n",
       "      <td>True</td>\n",
       "      <td>NaN</td>\n",
       "      <td>81.0</td>\n",
       "      <td>4.0</td>\n",
       "      <td>5.0</td>\n",
       "      <td>01-08-1994</td>\n",
       "    </tr>\n",
       "    <tr>\n",
       "      <th>2</th>\n",
       "      <td>Maria</td>\n",
       "      <td>Female</td>\n",
       "      <td>130590.0</td>\n",
       "      <td>11.858</td>\n",
       "      <td>False</td>\n",
       "      <td>Finance</td>\n",
       "      <td>6.0</td>\n",
       "      <td>5.0</td>\n",
       "      <td>3.0</td>\n",
       "      <td>14-10-2018</td>\n",
       "    </tr>\n",
       "    <tr>\n",
       "      <th>3</th>\n",
       "      <td>Jerry</td>\n",
       "      <td>Male</td>\n",
       "      <td>138705.0</td>\n",
       "      <td>9.340</td>\n",
       "      <td>True</td>\n",
       "      <td>Finance</td>\n",
       "      <td>77.0</td>\n",
       "      <td>2.0</td>\n",
       "      <td>3.0</td>\n",
       "      <td>18-05-1993</td>\n",
       "    </tr>\n",
       "    <tr>\n",
       "      <th>4</th>\n",
       "      <td>Larry</td>\n",
       "      <td>Male</td>\n",
       "      <td>101004.0</td>\n",
       "      <td>1.389</td>\n",
       "      <td>NaN</td>\n",
       "      <td>Client Services</td>\n",
       "      <td>40.0</td>\n",
       "      <td>4.0</td>\n",
       "      <td>6.0</td>\n",
       "      <td>28-02-1986</td>\n",
       "    </tr>\n",
       "  </tbody>\n",
       "</table>\n",
       "</div>"
      ],
      "text/plain": [
       "  First Name  Gender    Salary  Bonus % Senior Management             Team  \\\n",
       "0    Douglas    Male   97308.0    6.945              True        Marketing   \n",
       "1     Thomas    Male   61933.0    4.170              True              NaN   \n",
       "2      Maria  Female  130590.0   11.858             False          Finance   \n",
       "3      Jerry    Male  138705.0    9.340              True          Finance   \n",
       "4      Larry    Male  101004.0    1.389               NaN  Client Services   \n",
       "\n",
       "   Spending Score  Edu level  No Of Family members         DOB  \n",
       "0            39.0        1.0                   2.0  04-11-1995  \n",
       "1            81.0        4.0                   5.0  01-08-1994  \n",
       "2             6.0        5.0                   3.0  14-10-2018  \n",
       "3            77.0        2.0                   3.0  18-05-1993  \n",
       "4            40.0        4.0                   6.0  28-02-1986  "
      ]
     },
     "execution_count": 7,
     "metadata": {},
     "output_type": "execute_result"
    }
   ],
   "source": [
    "#More than 50% of values missing, hence droping 'Owns Vehicle' column.\n",
    "\n",
    "df.drop(columns='Owns Vehicle', inplace=True)\n",
    "df.head()"
   ]
  },
  {
   "cell_type": "markdown",
   "metadata": {},
   "source": [
    "#### Checking 'DOB' column as it has less than 5% missing values."
   ]
  },
  {
   "cell_type": "code",
   "execution_count": 8,
   "metadata": {},
   "outputs": [
    {
     "data": {
      "text/html": [
       "<div>\n",
       "<style scoped>\n",
       "    .dataframe tbody tr th:only-of-type {\n",
       "        vertical-align: middle;\n",
       "    }\n",
       "\n",
       "    .dataframe tbody tr th {\n",
       "        vertical-align: top;\n",
       "    }\n",
       "\n",
       "    .dataframe thead th {\n",
       "        text-align: right;\n",
       "    }\n",
       "</style>\n",
       "<table border=\"1\" class=\"dataframe\">\n",
       "  <thead>\n",
       "    <tr style=\"text-align: right;\">\n",
       "      <th></th>\n",
       "      <th>First Name</th>\n",
       "      <th>Gender</th>\n",
       "      <th>Salary</th>\n",
       "      <th>Bonus %</th>\n",
       "      <th>Senior Management</th>\n",
       "      <th>Team</th>\n",
       "      <th>Spending Score</th>\n",
       "      <th>Edu level</th>\n",
       "      <th>No Of Family members</th>\n",
       "      <th>DOB</th>\n",
       "    </tr>\n",
       "  </thead>\n",
       "  <tbody>\n",
       "    <tr>\n",
       "      <th>61</th>\n",
       "      <td>Denise</td>\n",
       "      <td>NaN</td>\n",
       "      <td>NaN</td>\n",
       "      <td>NaN</td>\n",
       "      <td>NaN</td>\n",
       "      <td>NaN</td>\n",
       "      <td>NaN</td>\n",
       "      <td>NaN</td>\n",
       "      <td>NaN</td>\n",
       "      <td>NaN</td>\n",
       "    </tr>\n",
       "    <tr>\n",
       "      <th>62</th>\n",
       "      <td>Catherene</td>\n",
       "      <td>NaN</td>\n",
       "      <td>NaN</td>\n",
       "      <td>NaN</td>\n",
       "      <td>NaN</td>\n",
       "      <td>NaN</td>\n",
       "      <td>NaN</td>\n",
       "      <td>NaN</td>\n",
       "      <td>NaN</td>\n",
       "      <td>NaN</td>\n",
       "    </tr>\n",
       "  </tbody>\n",
       "</table>\n",
       "</div>"
      ],
      "text/plain": [
       "   First Name Gender  Salary  Bonus % Senior Management Team  Spending Score  \\\n",
       "61     Denise    NaN     NaN      NaN               NaN  NaN             NaN   \n",
       "62  Catherene    NaN     NaN      NaN               NaN  NaN             NaN   \n",
       "\n",
       "    Edu level  No Of Family members  DOB  \n",
       "61        NaN                   NaN  NaN  \n",
       "62        NaN                   NaN  NaN  "
      ]
     },
     "execution_count": 8,
     "metadata": {},
     "output_type": "execute_result"
    }
   ],
   "source": [
    "df[df['DOB'].isna()]"
   ]
  },
  {
   "cell_type": "code",
   "execution_count": 9,
   "metadata": {},
   "outputs": [],
   "source": [
    "# Since all the values in these rows are missing, we can drop these rows.\n",
    "\n",
    "df.drop(df[df['DOB'].isna()].index, inplace=True)"
   ]
  },
  {
   "cell_type": "code",
   "execution_count": 10,
   "metadata": {},
   "outputs": [
    {
     "name": "stdout",
     "output_type": "stream",
     "text": [
      "First Name               0\n",
      "Gender                  20\n",
      "Salary                   5\n",
      "Bonus %                  1\n",
      "Senior Management        7\n",
      "Team                     8\n",
      "Spending Score           3\n",
      "Edu level                1\n",
      "No Of Family members     2\n",
      "DOB                      0\n",
      "dtype: int64\n",
      "\n",
      "Total Null Values: 47\n"
     ]
    }
   ],
   "source": [
    "# Checking Null Values\n",
    "\n",
    "print(df.isna().sum())\n",
    "print('\\nTotal Null Values:',df.isna().sum().sum())"
   ]
  },
  {
   "cell_type": "markdown",
   "metadata": {},
   "source": [
    "#### Filling the categorical columns, 'Gender', 'Team', 'Senior Management', and 'Edu level' with it's mode value."
   ]
  },
  {
   "cell_type": "code",
   "execution_count": 11,
   "metadata": {
    "scrolled": true
   },
   "outputs": [
    {
     "data": {
      "text/html": [
       "<div>\n",
       "<style scoped>\n",
       "    .dataframe tbody tr th:only-of-type {\n",
       "        vertical-align: middle;\n",
       "    }\n",
       "\n",
       "    .dataframe tbody tr th {\n",
       "        vertical-align: top;\n",
       "    }\n",
       "\n",
       "    .dataframe thead th {\n",
       "        text-align: right;\n",
       "    }\n",
       "</style>\n",
       "<table border=\"1\" class=\"dataframe\">\n",
       "  <thead>\n",
       "    <tr style=\"text-align: right;\">\n",
       "      <th></th>\n",
       "      <th>First Name</th>\n",
       "      <th>Gender</th>\n",
       "      <th>Salary</th>\n",
       "      <th>Bonus %</th>\n",
       "      <th>Senior Management</th>\n",
       "      <th>Team</th>\n",
       "      <th>Spending Score</th>\n",
       "      <th>Edu level</th>\n",
       "      <th>No Of Family members</th>\n",
       "      <th>DOB</th>\n",
       "    </tr>\n",
       "  </thead>\n",
       "  <tbody>\n",
       "    <tr>\n",
       "      <th>0</th>\n",
       "      <td>Douglas</td>\n",
       "      <td>Male</td>\n",
       "      <td>97308.0</td>\n",
       "      <td>6.945</td>\n",
       "      <td>True</td>\n",
       "      <td>Marketing</td>\n",
       "      <td>39.0</td>\n",
       "      <td>1.0</td>\n",
       "      <td>2.0</td>\n",
       "      <td>04-11-1995</td>\n",
       "    </tr>\n",
       "    <tr>\n",
       "      <th>1</th>\n",
       "      <td>Thomas</td>\n",
       "      <td>Male</td>\n",
       "      <td>61933.0</td>\n",
       "      <td>4.170</td>\n",
       "      <td>True</td>\n",
       "      <td>Client Services</td>\n",
       "      <td>81.0</td>\n",
       "      <td>4.0</td>\n",
       "      <td>5.0</td>\n",
       "      <td>01-08-1994</td>\n",
       "    </tr>\n",
       "    <tr>\n",
       "      <th>2</th>\n",
       "      <td>Maria</td>\n",
       "      <td>Female</td>\n",
       "      <td>130590.0</td>\n",
       "      <td>11.858</td>\n",
       "      <td>False</td>\n",
       "      <td>Finance</td>\n",
       "      <td>6.0</td>\n",
       "      <td>5.0</td>\n",
       "      <td>3.0</td>\n",
       "      <td>14-10-2018</td>\n",
       "    </tr>\n",
       "    <tr>\n",
       "      <th>3</th>\n",
       "      <td>Jerry</td>\n",
       "      <td>Male</td>\n",
       "      <td>138705.0</td>\n",
       "      <td>9.340</td>\n",
       "      <td>True</td>\n",
       "      <td>Finance</td>\n",
       "      <td>77.0</td>\n",
       "      <td>2.0</td>\n",
       "      <td>3.0</td>\n",
       "      <td>18-05-1993</td>\n",
       "    </tr>\n",
       "    <tr>\n",
       "      <th>4</th>\n",
       "      <td>Larry</td>\n",
       "      <td>Male</td>\n",
       "      <td>101004.0</td>\n",
       "      <td>1.389</td>\n",
       "      <td>True</td>\n",
       "      <td>Client Services</td>\n",
       "      <td>40.0</td>\n",
       "      <td>4.0</td>\n",
       "      <td>6.0</td>\n",
       "      <td>28-02-1986</td>\n",
       "    </tr>\n",
       "  </tbody>\n",
       "</table>\n",
       "</div>"
      ],
      "text/plain": [
       "  First Name  Gender    Salary  Bonus %  Senior Management             Team  \\\n",
       "0    Douglas    Male   97308.0    6.945               True        Marketing   \n",
       "1     Thomas    Male   61933.0    4.170               True  Client Services   \n",
       "2      Maria  Female  130590.0   11.858              False          Finance   \n",
       "3      Jerry    Male  138705.0    9.340               True          Finance   \n",
       "4      Larry    Male  101004.0    1.389               True  Client Services   \n",
       "\n",
       "   Spending Score  Edu level  No Of Family members         DOB  \n",
       "0            39.0        1.0                   2.0  04-11-1995  \n",
       "1            81.0        4.0                   5.0  01-08-1994  \n",
       "2             6.0        5.0                   3.0  14-10-2018  \n",
       "3            77.0        2.0                   3.0  18-05-1993  \n",
       "4            40.0        4.0                   6.0  28-02-1986  "
      ]
     },
     "execution_count": 11,
     "metadata": {},
     "output_type": "execute_result"
    }
   ],
   "source": [
    "df['Gender'].fillna(value=df['Gender'].mode()[0], inplace=True)\n",
    "df['Team'].fillna(value=df['Team'].mode()[0], inplace=True)\n",
    "df['Senior Management'].fillna(value=df['Senior Management'].mode()[0], inplace=True)\n",
    "df['Edu level'].fillna(value=df['Edu level'].mode()[0], inplace=True)\n",
    "df['No Of Family members'].fillna(value=df['No Of Family members'].mode()[0], inplace=True)\n",
    "df.head()"
   ]
  },
  {
   "cell_type": "markdown",
   "metadata": {},
   "source": [
    "#### Filling the nominal columns, 'Salary', 'Bonus%', and 'Spending Score' with it's mean value."
   ]
  },
  {
   "cell_type": "code",
   "execution_count": 12,
   "metadata": {},
   "outputs": [
    {
     "data": {
      "text/plain": [
       "Salary            0\n",
       "Bonus %           0\n",
       "Spending Score    0\n",
       "dtype: int64"
      ]
     },
     "execution_count": 12,
     "metadata": {},
     "output_type": "execute_result"
    }
   ],
   "source": [
    "df['Salary'].fillna(value= df['Salary'].mean(), inplace=True)\n",
    "df['Bonus %'].fillna(value= df['Bonus %'].mean(), inplace=True)\n",
    "df['Spending Score'].fillna(value= df['Spending Score'].mean(), inplace=True)\n",
    "df[['Salary','Bonus %', 'Spending Score']].isna().sum()"
   ]
  },
  {
   "cell_type": "markdown",
   "metadata": {},
   "source": [
    "#### Checking for null values"
   ]
  },
  {
   "cell_type": "code",
   "execution_count": 13,
   "metadata": {
    "scrolled": true
   },
   "outputs": [
    {
     "name": "stdout",
     "output_type": "stream",
     "text": [
      "First Name              0\n",
      "Gender                  0\n",
      "Salary                  0\n",
      "Bonus %                 0\n",
      "Senior Management       0\n",
      "Team                    0\n",
      "Spending Score          0\n",
      "Edu level               0\n",
      "No Of Family members    0\n",
      "DOB                     0\n",
      "dtype: int64\n",
      "\n",
      "Total Null Values: 0\n"
     ]
    }
   ],
   "source": [
    "print(df.isna().sum())\n",
    "print('\\nTotal Null Values:',df.isna().sum().sum())"
   ]
  },
  {
   "cell_type": "markdown",
   "metadata": {},
   "source": [
    "## Checking for Outliers"
   ]
  },
  {
   "cell_type": "code",
   "execution_count": 14,
   "metadata": {},
   "outputs": [
    {
     "data": {
      "text/plain": [
       "First Name               object\n",
       "Gender                   object\n",
       "Salary                  float64\n",
       "Bonus %                 float64\n",
       "Senior Management          bool\n",
       "Team                     object\n",
       "Spending Score          float64\n",
       "Edu level               float64\n",
       "No Of Family members    float64\n",
       "DOB                      object\n",
       "dtype: object"
      ]
     },
     "execution_count": 14,
     "metadata": {},
     "output_type": "execute_result"
    }
   ],
   "source": [
    "df.dtypes"
   ]
  },
  {
   "cell_type": "markdown",
   "metadata": {},
   "source": [
    "#### Making box plot for nominal columns."
   ]
  },
  {
   "cell_type": "code",
   "execution_count": 15,
   "metadata": {
    "scrolled": true
   },
   "outputs": [
    {
     "data": {
      "image/png": "[encoded data removed]",
      "text/plain": [
       "<Figure size 1296x504 with 5 Axes>"
      ]
     },
     "metadata": {},
     "output_type": "display_data"
    }
   ],
   "source": [
    "plt.style.use('seaborn')\n",
    "fig, axes = plt.subplots(1, 5,figsize=(18,7))\n",
    "\n",
    "boxlist = ['Salary', 'Bonus %', 'Spending Score', 'Edu level', 'No Of Family members']\n",
    "\n",
    "for i in range(len(boxlist)):\n",
    "    axes[i].boxplot(df[boxlist[i]])\n",
    "    axes[i].set_title(boxlist[i])"
   ]
  },
  {
   "cell_type": "markdown",
   "metadata": {},
   "source": [
    "#### -- We have outliers in 'Spending Score' and 'Edu level'"
   ]
  },
  {
   "cell_type": "markdown",
   "metadata": {},
   "source": [
    "#### Calculating Interquartile Range"
   ]
  },
  {
   "cell_type": "code",
   "execution_count": 16,
   "metadata": {},
   "outputs": [
    {
     "data": {
      "text/plain": [
       "Spending Score    19.0\n",
       "Edu level          4.0\n",
       "dtype: float64"
      ]
     },
     "execution_count": 16,
     "metadata": {},
     "output_type": "execute_result"
    }
   ],
   "source": [
    "outliers = ['Spending Score', 'Edu level']\n",
    "\n",
    "Q1 = df[outliers].quantile(0.25)\n",
    "Q3 = df[outliers].quantile(0.75)\n",
    "IQR = Q3 - Q1\n",
    "IQR"
   ]
  },
  {
   "cell_type": "code",
   "execution_count": 17,
   "metadata": {
    "scrolled": true
   },
   "outputs": [
    {
     "data": {
      "text/html": [
       "<div>\n",
       "<style scoped>\n",
       "    .dataframe tbody tr th:only-of-type {\n",
       "        vertical-align: middle;\n",
       "    }\n",
       "\n",
       "    .dataframe tbody tr th {\n",
       "        vertical-align: top;\n",
       "    }\n",
       "\n",
       "    .dataframe thead th {\n",
       "        text-align: right;\n",
       "    }\n",
       "</style>\n",
       "<table border=\"1\" class=\"dataframe\">\n",
       "  <thead>\n",
       "    <tr style=\"text-align: right;\">\n",
       "      <th></th>\n",
       "      <th>Spending Score</th>\n",
       "      <th>Edu level</th>\n",
       "    </tr>\n",
       "  </thead>\n",
       "  <tbody>\n",
       "    <tr>\n",
       "      <th>0</th>\n",
       "      <td>False</td>\n",
       "      <td>False</td>\n",
       "    </tr>\n",
       "    <tr>\n",
       "      <th>1</th>\n",
       "      <td>False</td>\n",
       "      <td>False</td>\n",
       "    </tr>\n",
       "    <tr>\n",
       "      <th>2</th>\n",
       "      <td>True</td>\n",
       "      <td>False</td>\n",
       "    </tr>\n",
       "    <tr>\n",
       "      <th>3</th>\n",
       "      <td>False</td>\n",
       "      <td>False</td>\n",
       "    </tr>\n",
       "    <tr>\n",
       "      <th>4</th>\n",
       "      <td>False</td>\n",
       "      <td>False</td>\n",
       "    </tr>\n",
       "    <tr>\n",
       "      <th>...</th>\n",
       "      <td>...</td>\n",
       "      <td>...</td>\n",
       "    </tr>\n",
       "    <tr>\n",
       "      <th>95</th>\n",
       "      <td>False</td>\n",
       "      <td>False</td>\n",
       "    </tr>\n",
       "    <tr>\n",
       "      <th>96</th>\n",
       "      <td>False</td>\n",
       "      <td>False</td>\n",
       "    </tr>\n",
       "    <tr>\n",
       "      <th>97</th>\n",
       "      <td>False</td>\n",
       "      <td>False</td>\n",
       "    </tr>\n",
       "    <tr>\n",
       "      <th>98</th>\n",
       "      <td>False</td>\n",
       "      <td>False</td>\n",
       "    </tr>\n",
       "    <tr>\n",
       "      <th>99</th>\n",
       "      <td>False</td>\n",
       "      <td>False</td>\n",
       "    </tr>\n",
       "  </tbody>\n",
       "</table>\n",
       "<p>98 rows × 2 columns</p>\n",
       "</div>"
      ],
      "text/plain": [
       "    Spending Score  Edu level\n",
       "0            False      False\n",
       "1            False      False\n",
       "2             True      False\n",
       "3            False      False\n",
       "4            False      False\n",
       "..             ...        ...\n",
       "95           False      False\n",
       "96           False      False\n",
       "97           False      False\n",
       "98           False      False\n",
       "99           False      False\n",
       "\n",
       "[98 rows x 2 columns]"
      ]
     },
     "execution_count": 17,
     "metadata": {},
     "output_type": "execute_result"
    }
   ],
   "source": [
    "#to check outlier if true means outlier false means not outlier\n",
    "(df[outliers] < (Q1 - 1.5 * IQR)) | (df[outliers] > (Q3 + 1.5 * IQR))"
   ]
  },
  {
   "cell_type": "code",
   "execution_count": 18,
   "metadata": {},
   "outputs": [
    {
     "data": {
      "text/plain": [
       "Spending Score   -0.112665\n",
       "Edu level         0.579186\n",
       "dtype: float64"
      ]
     },
     "execution_count": 18,
     "metadata": {},
     "output_type": "execute_result"
    }
   ],
   "source": [
    "df[outliers].skew()"
   ]
  },
  {
   "cell_type": "code",
   "execution_count": 19,
   "metadata": {},
   "outputs": [
    {
     "data": {
      "text/plain": [
       "Spending Score   -0.289180\n",
       "Edu level         0.047542\n",
       "dtype: float64"
      ]
     },
     "execution_count": 19,
     "metadata": {},
     "output_type": "execute_result"
    }
   ],
   "source": [
    "#quantile based flooring and capping\n",
    "#replacing with 10th quartile for lower end and with 90th quartile with higher end\n",
    "df[outliers] = np.where(df[outliers] < df[outliers].quantile(0.1), df[outliers].quantile(0.1),df[outliers])\n",
    "df[outliers] = np.where(df[outliers] > df[outliers].quantile(0.9), df[outliers].quantile(0.9),df[outliers])\n",
    "df[outliers].skew()"
   ]
  },
  {
   "cell_type": "code",
   "execution_count": 20,
   "metadata": {},
   "outputs": [
    {
     "data": {
      "image/png": "[encoded data removed]",
      "text/plain": [
       "<Figure size 432x504 with 2 Axes>"
      ]
     },
     "metadata": {},
     "output_type": "display_data"
    }
   ],
   "source": [
    "fig, axes = plt.subplots(1, 2,figsize=(6,7))\n",
    "\n",
    "for i in range(len(outliers)):\n",
    "    axes[i].boxplot(df[outliers[i]])\n",
    "    axes[i].set_title(outliers[i])"
   ]
  },
  {
   "cell_type": "code",
   "execution_count": 25,
   "metadata": {},
   "outputs": [
    {
     "data": {
      "text/html": [
       "<div>\n",
       "<style scoped>\n",
       "    .dataframe tbody tr th:only-of-type {\n",
       "        vertical-align: middle;\n",
       "    }\n",
       "\n",
       "    .dataframe tbody tr th {\n",
       "        vertical-align: top;\n",
       "    }\n",
       "\n",
       "    .dataframe thead th {\n",
       "        text-align: right;\n",
       "    }\n",
       "</style>\n",
       "<table border=\"1\" class=\"dataframe\">\n",
       "  <thead>\n",
       "    <tr style=\"text-align: right;\">\n",
       "      <th></th>\n",
       "      <th>level_0</th>\n",
       "      <th>index</th>\n",
       "      <th>First Name</th>\n",
       "      <th>Gender</th>\n",
       "      <th>Salary</th>\n",
       "      <th>Bonus %</th>\n",
       "      <th>Senior Management</th>\n",
       "      <th>Team</th>\n",
       "      <th>Spending Score</th>\n",
       "      <th>Edu level</th>\n",
       "      <th>No Of Family members</th>\n",
       "      <th>DOB</th>\n",
       "    </tr>\n",
       "  </thead>\n",
       "  <tbody>\n",
       "    <tr>\n",
       "      <th>0</th>\n",
       "      <td>0</td>\n",
       "      <td>0</td>\n",
       "      <td>Douglas</td>\n",
       "      <td>Male</td>\n",
       "      <td>97308.0</td>\n",
       "      <td>6.945</td>\n",
       "      <td>True</td>\n",
       "      <td>Marketing</td>\n",
       "      <td>39.0</td>\n",
       "      <td>1.0</td>\n",
       "      <td>2.0</td>\n",
       "      <td>04-11-1995</td>\n",
       "    </tr>\n",
       "    <tr>\n",
       "      <th>1</th>\n",
       "      <td>1</td>\n",
       "      <td>1</td>\n",
       "      <td>Thomas</td>\n",
       "      <td>Male</td>\n",
       "      <td>61933.0</td>\n",
       "      <td>4.170</td>\n",
       "      <td>True</td>\n",
       "      <td>Client Services</td>\n",
       "      <td>77.6</td>\n",
       "      <td>4.0</td>\n",
       "      <td>5.0</td>\n",
       "      <td>01-08-1994</td>\n",
       "    </tr>\n",
       "    <tr>\n",
       "      <th>2</th>\n",
       "      <td>2</td>\n",
       "      <td>2</td>\n",
       "      <td>Maria</td>\n",
       "      <td>Female</td>\n",
       "      <td>130590.0</td>\n",
       "      <td>11.858</td>\n",
       "      <td>False</td>\n",
       "      <td>Finance</td>\n",
       "      <td>14.7</td>\n",
       "      <td>5.0</td>\n",
       "      <td>3.0</td>\n",
       "      <td>14-10-2018</td>\n",
       "    </tr>\n",
       "    <tr>\n",
       "      <th>3</th>\n",
       "      <td>3</td>\n",
       "      <td>3</td>\n",
       "      <td>Jerry</td>\n",
       "      <td>Male</td>\n",
       "      <td>138705.0</td>\n",
       "      <td>9.340</td>\n",
       "      <td>True</td>\n",
       "      <td>Finance</td>\n",
       "      <td>77.0</td>\n",
       "      <td>2.0</td>\n",
       "      <td>3.0</td>\n",
       "      <td>18-05-1993</td>\n",
       "    </tr>\n",
       "    <tr>\n",
       "      <th>4</th>\n",
       "      <td>4</td>\n",
       "      <td>4</td>\n",
       "      <td>Larry</td>\n",
       "      <td>Male</td>\n",
       "      <td>101004.0</td>\n",
       "      <td>1.389</td>\n",
       "      <td>True</td>\n",
       "      <td>Client Services</td>\n",
       "      <td>40.0</td>\n",
       "      <td>4.0</td>\n",
       "      <td>6.0</td>\n",
       "      <td>28-02-1986</td>\n",
       "    </tr>\n",
       "    <tr>\n",
       "      <th>...</th>\n",
       "      <td>...</td>\n",
       "      <td>...</td>\n",
       "      <td>...</td>\n",
       "      <td>...</td>\n",
       "      <td>...</td>\n",
       "      <td>...</td>\n",
       "      <td>...</td>\n",
       "      <td>...</td>\n",
       "      <td>...</td>\n",
       "      <td>...</td>\n",
       "      <td>...</td>\n",
       "      <td>...</td>\n",
       "    </tr>\n",
       "    <tr>\n",
       "      <th>93</th>\n",
       "      <td>93</td>\n",
       "      <td>95</td>\n",
       "      <td>Heather</td>\n",
       "      <td>Female</td>\n",
       "      <td>43026.0</td>\n",
       "      <td>14.166</td>\n",
       "      <td>False</td>\n",
       "      <td>Client Services</td>\n",
       "      <td>52.0</td>\n",
       "      <td>7.0</td>\n",
       "      <td>3.0</td>\n",
       "      <td>27-01-2011</td>\n",
       "    </tr>\n",
       "    <tr>\n",
       "      <th>94</th>\n",
       "      <td>94</td>\n",
       "      <td>96</td>\n",
       "      <td>Cynthia</td>\n",
       "      <td>Female</td>\n",
       "      <td>142321.0</td>\n",
       "      <td>1.737</td>\n",
       "      <td>False</td>\n",
       "      <td>Finance</td>\n",
       "      <td>47.0</td>\n",
       "      <td>3.0</td>\n",
       "      <td>6.0</td>\n",
       "      <td>15-12-2013</td>\n",
       "    </tr>\n",
       "    <tr>\n",
       "      <th>95</th>\n",
       "      <td>95</td>\n",
       "      <td>97</td>\n",
       "      <td>Laura</td>\n",
       "      <td>Female</td>\n",
       "      <td>140371.0</td>\n",
       "      <td>10.620</td>\n",
       "      <td>True</td>\n",
       "      <td>Marketing</td>\n",
       "      <td>50.0</td>\n",
       "      <td>2.0</td>\n",
       "      <td>2.0</td>\n",
       "      <td>07-07-2017</td>\n",
       "    </tr>\n",
       "    <tr>\n",
       "      <th>96</th>\n",
       "      <td>96</td>\n",
       "      <td>98</td>\n",
       "      <td>Tina</td>\n",
       "      <td>Female</td>\n",
       "      <td>100705.0</td>\n",
       "      <td>16.961</td>\n",
       "      <td>True</td>\n",
       "      <td>Marketing</td>\n",
       "      <td>42.0</td>\n",
       "      <td>6.0</td>\n",
       "      <td>4.0</td>\n",
       "      <td>22-04-1999</td>\n",
       "    </tr>\n",
       "    <tr>\n",
       "      <th>97</th>\n",
       "      <td>97</td>\n",
       "      <td>99</td>\n",
       "      <td>Harold</td>\n",
       "      <td>Male</td>\n",
       "      <td>77544.0</td>\n",
       "      <td>12.447</td>\n",
       "      <td>False</td>\n",
       "      <td>Business Development</td>\n",
       "      <td>32.0</td>\n",
       "      <td>3.0</td>\n",
       "      <td>2.0</td>\n",
       "      <td>02-12-2013</td>\n",
       "    </tr>\n",
       "  </tbody>\n",
       "</table>\n",
       "<p>98 rows × 12 columns</p>\n",
       "</div>"
      ],
      "text/plain": [
       "    level_0  index First Name  Gender    Salary  Bonus %  Senior Management  \\\n",
       "0         0      0    Douglas    Male   97308.0    6.945               True   \n",
       "1         1      1     Thomas    Male   61933.0    4.170               True   \n",
       "2         2      2      Maria  Female  130590.0   11.858              False   \n",
       "3         3      3      Jerry    Male  138705.0    9.340               True   \n",
       "4         4      4      Larry    Male  101004.0    1.389               True   \n",
       "..      ...    ...        ...     ...       ...      ...                ...   \n",
       "93       93     95    Heather  Female   43026.0   14.166              False   \n",
       "94       94     96    Cynthia  Female  142321.0    1.737              False   \n",
       "95       95     97      Laura  Female  140371.0   10.620               True   \n",
       "96       96     98       Tina  Female  100705.0   16.961               True   \n",
       "97       97     99     Harold    Male   77544.0   12.447              False   \n",
       "\n",
       "                    Team  Spending Score  Edu level  No Of Family members  \\\n",
       "0              Marketing            39.0        1.0                   2.0   \n",
       "1        Client Services            77.6        4.0                   5.0   \n",
       "2                Finance            14.7        5.0                   3.0   \n",
       "3                Finance            77.0        2.0                   3.0   \n",
       "4        Client Services            40.0        4.0                   6.0   \n",
       "..                   ...             ...        ...                   ...   \n",
       "93       Client Services            52.0        7.0                   3.0   \n",
       "94               Finance            47.0        3.0                   6.0   \n",
       "95             Marketing            50.0        2.0                   2.0   \n",
       "96             Marketing            42.0        6.0                   4.0   \n",
       "97  Business Development            32.0        3.0                   2.0   \n",
       "\n",
       "           DOB  \n",
       "0   04-11-1995  \n",
       "1   01-08-1994  \n",
       "2   14-10-2018  \n",
       "3   18-05-1993  \n",
       "4   28-02-1986  \n",
       "..         ...  \n",
       "93  27-01-2011  \n",
       "94  15-12-2013  \n",
       "95  07-07-2017  \n",
       "96  22-04-1999  \n",
       "97  02-12-2013  \n",
       "\n",
       "[98 rows x 12 columns]"
      ]
     },
     "execution_count": 25,
     "metadata": {},
     "output_type": "execute_result"
    }
   ],
   "source": [
    "df.reset_index(inplace=True)\n",
    "df"
   ]
  },
  {
   "cell_type": "code",
   "execution_count": null,
   "metadata": {},
   "outputs": [],
   "source": []
  },
  {
   "cell_type": "code",
   "execution_count": null,
   "metadata": {},
   "outputs": [],
   "source": []
  },
  {
   "cell_type": "markdown",
   "metadata": {},
   "source": [
    "Notebook Prepared by **Rahul Fulwadhwa**\n",
    "\n",
    "LinkedIn - [linkedin.com/in/rahul-fulwadhwa/](https://www.linkedin.com/in/rahul-fulwadhwa/)\n",
    "\n",
    "Portfolio - [rahuldf.github.io/portfolio](https://rahuldf.github.io/portfolio)"
   ]
  }
 ],
 "metadata": {
  "kernelspec": {
   "display_name": "Python 3 (ipykernel)",
   "language": "python",
   "name": "python3"
  },
  "language_info": {
   "codemirror_mode": {
    "name": "ipython",
    "version": 3
   },
   "file_extension": ".py",
   "mimetype": "text/x-python",
   "name": "python",
   "nbconvert_exporter": "python",
   "pygments_lexer": "ipython3",
   "version": "3.9.12"
  }
 },
 "nbformat": 4,
 "nbformat_minor": 2
}
