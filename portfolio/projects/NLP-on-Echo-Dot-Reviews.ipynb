{
 "cells": [
  {
   "cell_type": "markdown",
   "id": "dcb3c744",
   "metadata": {},
   "source": [
    "# NLP on Amazon Echo Dot Reviews\n",
    "\n",
    "This notebook dives into analyzing reviews for Amazon's smart speaker, \"Echo Dot (3rd Gen) - Smart speaker with Alexa (Black)\". We'll explore key topics, identify prominent words and sentiments around those topics for Echo Dot. Through code and visualizations, we'll unpack the data layer by layer, revealing valuable insights."
   ]
  },
  {
   "cell_type": "markdown",
   "id": "4f10ca65",
   "metadata": {},
   "source": [
    "# Importing data "
   ]
  },
  {
   "cell_type": "code",
   "execution_count": 1,
   "id": "58a24b28",
   "metadata": {},
   "outputs": [],
   "source": [
    "import warnings\n",
    "warnings.filterwarnings('ignore')\n",
    "import pandas as pd\n",
    "from matplotlib import pyplot as plt\n",
    "%matplotlib inline"
   ]
  },
  {
   "cell_type": "code",
   "execution_count": 2,
   "id": "a8e78f5f",
   "metadata": {},
   "outputs": [
    {
     "data": {
      "text/html": [
       "<div>\n",
       "<style scoped>\n",
       "    .dataframe tbody tr th:only-of-type {\n",
       "        vertical-align: middle;\n",
       "    }\n",
       "\n",
       "    .dataframe tbody tr th {\n",
       "        vertical-align: top;\n",
       "    }\n",
       "\n",
       "    .dataframe thead th {\n",
       "        text-align: right;\n",
       "    }\n",
       "</style>\n",
       "<table border=\"1\" class=\"dataframe\">\n",
       "  <thead>\n",
       "    <tr style=\"text-align: right;\">\n",
       "      <th></th>\n",
       "      <th>Location</th>\n",
       "      <th>Date</th>\n",
       "      <th>Rating</th>\n",
       "      <th>Manual Sentiment</th>\n",
       "      <th>Review</th>\n",
       "    </tr>\n",
       "  </thead>\n",
       "  <tbody>\n",
       "    <tr>\n",
       "      <th>0</th>\n",
       "      <td>India</td>\n",
       "      <td>2023-03-05</td>\n",
       "      <td>4</td>\n",
       "      <td>neutral</td>\n",
       "      <td>The sound is great. Integration of smart devic...</td>\n",
       "    </tr>\n",
       "    <tr>\n",
       "      <th>1</th>\n",
       "      <td>India</td>\n",
       "      <td>2023-02-26</td>\n",
       "      <td>4</td>\n",
       "      <td>neutral</td>\n",
       "      <td>I just wish it had a backup option which can l...</td>\n",
       "    </tr>\n",
       "    <tr>\n",
       "      <th>2</th>\n",
       "      <td>India</td>\n",
       "      <td>2023-03-02</td>\n",
       "      <td>4</td>\n",
       "      <td>neutral</td>\n",
       "      <td>Only needs live redio</td>\n",
       "    </tr>\n",
       "    <tr>\n",
       "      <th>3</th>\n",
       "      <td>India</td>\n",
       "      <td>2023-02-26</td>\n",
       "      <td>4</td>\n",
       "      <td>positive</td>\n",
       "      <td>Product is of good quality, as per the specs</td>\n",
       "    </tr>\n",
       "    <tr>\n",
       "      <th>4</th>\n",
       "      <td>India</td>\n",
       "      <td>2023-02-20</td>\n",
       "      <td>5</td>\n",
       "      <td>positive</td>\n",
       "      <td>There remains something quite futuristic about...</td>\n",
       "    </tr>\n",
       "    <tr>\n",
       "      <th>...</th>\n",
       "      <td>...</td>\n",
       "      <td>...</td>\n",
       "      <td>...</td>\n",
       "      <td>...</td>\n",
       "      <td>...</td>\n",
       "    </tr>\n",
       "    <tr>\n",
       "      <th>750</th>\n",
       "      <td>India</td>\n",
       "      <td>2021-03-18</td>\n",
       "      <td>1</td>\n",
       "      <td>negative</td>\n",
       "      <td>Worst experience with alexa no warranty you g...</td>\n",
       "    </tr>\n",
       "    <tr>\n",
       "      <th>751</th>\n",
       "      <td>India</td>\n",
       "      <td>2022-10-29</td>\n",
       "      <td>1</td>\n",
       "      <td>negative</td>\n",
       "      <td>Got an used LED bulb with the ECHO DOT. If you...</td>\n",
       "    </tr>\n",
       "    <tr>\n",
       "      <th>752</th>\n",
       "      <td>India</td>\n",
       "      <td>2021-10-25</td>\n",
       "      <td>2</td>\n",
       "      <td>negative</td>\n",
       "      <td>Expensive, Smart speaker works only when plugg...</td>\n",
       "    </tr>\n",
       "    <tr>\n",
       "      <th>753</th>\n",
       "      <td>India</td>\n",
       "      <td>2022-02-18</td>\n",
       "      <td>2</td>\n",
       "      <td>negative</td>\n",
       "      <td>After quite a few months of using this, consid...</td>\n",
       "    </tr>\n",
       "    <tr>\n",
       "      <th>754</th>\n",
       "      <td>India</td>\n",
       "      <td>2022-10-02</td>\n",
       "      <td>1</td>\n",
       "      <td>negative</td>\n",
       "      <td>songs search is not accurate, YouTube music no...</td>\n",
       "    </tr>\n",
       "  </tbody>\n",
       "</table>\n",
       "<p>755 rows × 5 columns</p>\n",
       "</div>"
      ],
      "text/plain": [
       "    Location       Date  Rating Manual Sentiment  \\\n",
       "0      India 2023-03-05       4          neutral   \n",
       "1      India 2023-02-26       4          neutral   \n",
       "2      India 2023-03-02       4          neutral   \n",
       "3      India 2023-02-26       4         positive   \n",
       "4      India 2023-02-20       5         positive   \n",
       "..       ...        ...     ...              ...   \n",
       "750    India 2021-03-18       1         negative   \n",
       "751    India 2022-10-29       1         negative   \n",
       "752    India 2021-10-25       2         negative   \n",
       "753    India 2022-02-18       2         negative   \n",
       "754    India 2022-10-02       1         negative   \n",
       "\n",
       "                                                Review  \n",
       "0    The sound is great. Integration of smart devic...  \n",
       "1    I just wish it had a backup option which can l...  \n",
       "2                                Only needs live redio  \n",
       "3         Product is of good quality, as per the specs  \n",
       "4    There remains something quite futuristic about...  \n",
       "..                                                 ...  \n",
       "750   Worst experience with alexa no warranty you g...  \n",
       "751  Got an used LED bulb with the ECHO DOT. If you...  \n",
       "752  Expensive, Smart speaker works only when plugg...  \n",
       "753  After quite a few months of using this, consid...  \n",
       "754  songs search is not accurate, YouTube music no...  \n",
       "\n",
       "[755 rows x 5 columns]"
      ]
     },
     "execution_count": 2,
     "metadata": {},
     "output_type": "execute_result"
    }
   ],
   "source": [
    "df = pd.read_csv(\"eco-dot-reviews.csv\")\n",
    "df['Date'] = pd.to_datetime(df['Date'])\n",
    "df"
   ]
  },
  {
   "cell_type": "code",
   "execution_count": 3,
   "id": "7be212b4",
   "metadata": {},
   "outputs": [
    {
     "name": "stdout",
     "output_type": "stream",
     "text": [
      "<class 'pandas.core.frame.DataFrame'>\n",
      "RangeIndex: 755 entries, 0 to 754\n",
      "Data columns (total 5 columns):\n",
      " #   Column            Non-Null Count  Dtype         \n",
      "---  ------            --------------  -----         \n",
      " 0   Location          755 non-null    object        \n",
      " 1   Date              755 non-null    datetime64[ns]\n",
      " 2   Rating            755 non-null    int64         \n",
      " 3   Manual Sentiment  755 non-null    object        \n",
      " 4   Review            755 non-null    object        \n",
      "dtypes: datetime64[ns](1), int64(1), object(3)\n",
      "memory usage: 29.6+ KB\n"
     ]
    }
   ],
   "source": [
    "df.info()"
   ]
  },
  {
   "cell_type": "markdown",
   "id": "59c6b816",
   "metadata": {},
   "source": [
    "# Sentiment Analysis"
   ]
  },
  {
   "cell_type": "code",
   "execution_count": 4,
   "id": "e47b15db",
   "metadata": {},
   "outputs": [
    {
     "data": {
      "text/html": [
       "<div>\n",
       "<style scoped>\n",
       "    .dataframe tbody tr th:only-of-type {\n",
       "        vertical-align: middle;\n",
       "    }\n",
       "\n",
       "    .dataframe tbody tr th {\n",
       "        vertical-align: top;\n",
       "    }\n",
       "\n",
       "    .dataframe thead th {\n",
       "        text-align: right;\n",
       "    }\n",
       "</style>\n",
       "<table border=\"1\" class=\"dataframe\">\n",
       "  <thead>\n",
       "    <tr style=\"text-align: right;\">\n",
       "      <th></th>\n",
       "      <th>Location</th>\n",
       "      <th>Date</th>\n",
       "      <th>Rating</th>\n",
       "      <th>Manual Sentiment</th>\n",
       "      <th>Review</th>\n",
       "      <th>Sentiment</th>\n",
       "    </tr>\n",
       "  </thead>\n",
       "  <tbody>\n",
       "    <tr>\n",
       "      <th>0</th>\n",
       "      <td>India</td>\n",
       "      <td>2023-03-05</td>\n",
       "      <td>4</td>\n",
       "      <td>neutral</td>\n",
       "      <td>The sound is great. Integration of smart devic...</td>\n",
       "      <td>Positive</td>\n",
       "    </tr>\n",
       "    <tr>\n",
       "      <th>1</th>\n",
       "      <td>India</td>\n",
       "      <td>2023-02-26</td>\n",
       "      <td>4</td>\n",
       "      <td>neutral</td>\n",
       "      <td>I just wish it had a backup option which can l...</td>\n",
       "      <td>Positive</td>\n",
       "    </tr>\n",
       "    <tr>\n",
       "      <th>2</th>\n",
       "      <td>India</td>\n",
       "      <td>2023-03-02</td>\n",
       "      <td>4</td>\n",
       "      <td>neutral</td>\n",
       "      <td>Only needs live redio</td>\n",
       "      <td>Positive</td>\n",
       "    </tr>\n",
       "    <tr>\n",
       "      <th>3</th>\n",
       "      <td>India</td>\n",
       "      <td>2023-02-26</td>\n",
       "      <td>4</td>\n",
       "      <td>positive</td>\n",
       "      <td>Product is of good quality, as per the specs</td>\n",
       "      <td>Positive</td>\n",
       "    </tr>\n",
       "    <tr>\n",
       "      <th>4</th>\n",
       "      <td>India</td>\n",
       "      <td>2023-02-20</td>\n",
       "      <td>5</td>\n",
       "      <td>positive</td>\n",
       "      <td>There remains something quite futuristic about...</td>\n",
       "      <td>Positive</td>\n",
       "    </tr>\n",
       "    <tr>\n",
       "      <th>...</th>\n",
       "      <td>...</td>\n",
       "      <td>...</td>\n",
       "      <td>...</td>\n",
       "      <td>...</td>\n",
       "      <td>...</td>\n",
       "      <td>...</td>\n",
       "    </tr>\n",
       "    <tr>\n",
       "      <th>750</th>\n",
       "      <td>India</td>\n",
       "      <td>2021-03-18</td>\n",
       "      <td>1</td>\n",
       "      <td>negative</td>\n",
       "      <td>Worst experience with alexa no warranty you g...</td>\n",
       "      <td>Negative</td>\n",
       "    </tr>\n",
       "    <tr>\n",
       "      <th>751</th>\n",
       "      <td>India</td>\n",
       "      <td>2022-10-29</td>\n",
       "      <td>1</td>\n",
       "      <td>negative</td>\n",
       "      <td>Got an used LED bulb with the ECHO DOT. If you...</td>\n",
       "      <td>Negative</td>\n",
       "    </tr>\n",
       "    <tr>\n",
       "      <th>752</th>\n",
       "      <td>India</td>\n",
       "      <td>2021-10-25</td>\n",
       "      <td>2</td>\n",
       "      <td>negative</td>\n",
       "      <td>Expensive, Smart speaker works only when plugg...</td>\n",
       "      <td>Negative</td>\n",
       "    </tr>\n",
       "    <tr>\n",
       "      <th>753</th>\n",
       "      <td>India</td>\n",
       "      <td>2022-02-18</td>\n",
       "      <td>2</td>\n",
       "      <td>negative</td>\n",
       "      <td>After quite a few months of using this, consid...</td>\n",
       "      <td>Positive</td>\n",
       "    </tr>\n",
       "    <tr>\n",
       "      <th>754</th>\n",
       "      <td>India</td>\n",
       "      <td>2022-10-02</td>\n",
       "      <td>1</td>\n",
       "      <td>negative</td>\n",
       "      <td>songs search is not accurate, YouTube music no...</td>\n",
       "      <td>Positive</td>\n",
       "    </tr>\n",
       "  </tbody>\n",
       "</table>\n",
       "<p>755 rows × 6 columns</p>\n",
       "</div>"
      ],
      "text/plain": [
       "    Location       Date  Rating Manual Sentiment  \\\n",
       "0      India 2023-03-05       4          neutral   \n",
       "1      India 2023-02-26       4          neutral   \n",
       "2      India 2023-03-02       4          neutral   \n",
       "3      India 2023-02-26       4         positive   \n",
       "4      India 2023-02-20       5         positive   \n",
       "..       ...        ...     ...              ...   \n",
       "750    India 2021-03-18       1         negative   \n",
       "751    India 2022-10-29       1         negative   \n",
       "752    India 2021-10-25       2         negative   \n",
       "753    India 2022-02-18       2         negative   \n",
       "754    India 2022-10-02       1         negative   \n",
       "\n",
       "                                                Review Sentiment  \n",
       "0    The sound is great. Integration of smart devic...  Positive  \n",
       "1    I just wish it had a backup option which can l...  Positive  \n",
       "2                                Only needs live redio  Positive  \n",
       "3         Product is of good quality, as per the specs  Positive  \n",
       "4    There remains something quite futuristic about...  Positive  \n",
       "..                                                 ...       ...  \n",
       "750   Worst experience with alexa no warranty you g...  Negative  \n",
       "751  Got an used LED bulb with the ECHO DOT. If you...  Negative  \n",
       "752  Expensive, Smart speaker works only when plugg...  Negative  \n",
       "753  After quite a few months of using this, consid...  Positive  \n",
       "754  songs search is not accurate, YouTube music no...  Positive  \n",
       "\n",
       "[755 rows x 6 columns]"
      ]
     },
     "execution_count": 4,
     "metadata": {},
     "output_type": "execute_result"
    }
   ],
   "source": [
    "from textblob import TextBlob\n",
    "\n",
    "def sentiment_analyser(text):\n",
    "    blob = TextBlob(text)\n",
    "    score = blob.sentiment.polarity\n",
    "    if score > 0:\n",
    "        sentiment = \"Positive\"\n",
    "    elif score < 0:\n",
    "        sentiment = \"Negative\"\n",
    "    else:\n",
    "        sentiment = \"Neutral\"\n",
    "    return  sentiment\n",
    "\n",
    "df['Sentiment'] = df['Review'].apply(lambda x: sentiment_analyser(x))\n",
    "df"
   ]
  },
  {
   "cell_type": "code",
   "execution_count": 5,
   "id": "50fc43d2",
   "metadata": {},
   "outputs": [
    {
     "data": {
      "text/plain": [
       "<AxesSubplot:>"
      ]
     },
     "execution_count": 5,
     "metadata": {},
     "output_type": "execute_result"
    },
    {
     "data": {
      "image/png": "[encoded data removed]",
      "text/plain": [
       "<Figure size 300x300 with 1 Axes>"
      ]
     },
     "metadata": {},
     "output_type": "display_data"
    }
   ],
   "source": [
    "df['Sentiment'].value_counts().plot(kind='pie', ylabel='', figsize=(3,3), autopct='%1.1f%%')"
   ]
  },
  {
   "cell_type": "markdown",
   "id": "54c40a54",
   "metadata": {},
   "source": [
    "# Overall sentiment of the product\n",
    "\n",
    ">#### Overall sentiment of the product is positive with around 75% positive reviews"
   ]
  },
  {
   "cell_type": "code",
   "execution_count": 6,
   "id": "63a8d15e",
   "metadata": {},
   "outputs": [],
   "source": [
    "df_positive = df[df['Sentiment'] == 'Positive']\n",
    "df_negative = df[df['Sentiment'] == 'Negative']"
   ]
  },
  {
   "cell_type": "markdown",
   "id": "eadea775",
   "metadata": {},
   "source": [
    "# Clustering - Positive Sentiment"
   ]
  },
  {
   "cell_type": "code",
   "execution_count": 7,
   "id": "05ba9a24",
   "metadata": {},
   "outputs": [],
   "source": [
    "import nltk\n",
    "import re\n",
    "import numpy as np\n",
    "\n",
    "from nltk.corpus import stopwords\n",
    "from nltk.stem import WordNetLemmatizer\n",
    "lemmatizer = WordNetLemmatizer()\n",
    "stop_words = stopwords.words('english')\n",
    "from nltk import word_tokenize, pos_tag\n",
    "\n",
    "stop_words = nltk.corpus.stopwords.words('english')\n",
    "additional_stop_words = ['use', 'alexa', 'echo', 'dot', 'amazon', 'good', 'smart', \n",
    "                         'speaker', 'product', 'device', 'music', 'work', 'need',\n",
    "                         'like', 'dont', 'thing', 'time', 'amazing', 'awesome',\n",
    "                         'buy', 'best', 'great', 'nice', 'song', 'day', 'really',\n",
    "                         'month', 'better', 'using', 'doesnt', 'got', 'super',\n",
    "                         'play', 'useful', 'feature', 'way', 'make', 'value', \n",
    "                         'happy', 'new', 'used', 'price', 'gen', 'user', 'worth',\n",
    "                         'love', 'review', 'home', 'working', 'item', 'thanks',\n",
    "                         'superb', 'year', 'know', 'fine', 'loved', 'small']\n",
    "stop_words.extend(additional_stop_words)\n",
    "\n",
    "\n",
    "def preprocess(text):\n",
    "    text = re.sub(r'[^a-zA-Z0-9\\s]', ' ', text)\n",
    "    text = text.lower()\n",
    "    text=text.strip()\n",
    "    temp_sent =[]\n",
    "    words = nltk.word_tokenize(text)\n",
    "    for word in words:\n",
    "        lemmatized = lemmatizer.lemmatize(word)\n",
    "        if lemmatized not in stop_words and lemmatized.isalpha() and len(lemmatized)>2:\n",
    "            temp_sent.append(lemmatized)\n",
    "    \n",
    "    finalsent = ' '.join(temp_sent)\n",
    "    return finalsent\n",
    "\n",
    "normalize_corpus = np.vectorize(preprocess)\n",
    "\n",
    "positive_corpus = normalize_corpus(list(df_positive['Review']))"
   ]
  },
  {
   "cell_type": "code",
   "execution_count": 8,
   "id": "b81a71b2",
   "metadata": {},
   "outputs": [
    {
     "name": "stdout",
     "output_type": "stream",
     "text": [
      "(569, 404)\n"
     ]
    }
   ],
   "source": [
    "from sklearn.feature_extraction.text import CountVectorizer\n",
    "\n",
    "# taking 5 for min_df and 0.9 as max_df as dataset is small.\n",
    "cv = CountVectorizer(ngram_range=(1, 2), min_df=4, max_df=0.9, stop_words='english')\n",
    "\n",
    "positive_cv_matrix = cv.fit_transform(positive_corpus)\n",
    "# negative_cv_matrix = cv.fit_transform(negative_corpus)\n",
    "\n",
    "print(positive_cv_matrix.shape)"
   ]
  },
  {
   "cell_type": "code",
   "execution_count": 9,
   "id": "f2d33ca7",
   "metadata": {},
   "outputs": [
    {
     "data": {
      "image/png": "[encoded data removed]",
      "text/plain": [
       "<Figure size 640x480 with 1 Axes>"
      ]
     },
     "metadata": {},
     "output_type": "display_data"
    }
   ],
   "source": [
    "from sklearn.cluster import KMeans\n",
    "\n",
    "min_range = 2\n",
    "max_range = 10\n",
    "\n",
    "# making elbow chart for finding K\n",
    "css = [] \n",
    "for i in range(min_range, max_range): \n",
    "    kmeans = KMeans(n_clusters=i, max_iter=100, n_init=10, random_state=42).fit(positive_cv_matrix)\n",
    "    css.append(kmeans.inertia_)\n",
    "   \n",
    "import matplotlib.pyplot as plt\n",
    "plt.plot(range(min_range, max_range), css, '-o')\n",
    "plt.xlabel('Number of clusters')\n",
    "plt.ylabel('CSS')\n",
    "plt.show()"
   ]
  },
  {
   "cell_type": "code",
   "execution_count": 10,
   "id": "4b29fe69",
   "metadata": {},
   "outputs": [
    {
     "data": {
      "text/plain": [
       "[[3, -347.48452377630656],\n",
       " [4, -132.35662364536347],\n",
       " [5, -99.5],\n",
       " [6, -129.0632515536954],\n",
       " [7, -95.63069601010557],\n",
       " [8, -100.59039979023237],\n",
       " [9, -123.76018299398856]]"
      ]
     },
     "execution_count": 10,
     "metadata": {},
     "output_type": "execute_result"
    }
   ],
   "source": [
    "css_diff = []\n",
    "\n",
    "for i in range(len(css)-1):\n",
    "    css_diff.append([i+3,css[i+1]-css[i]])\n",
    "\n",
    "css_diff"
   ]
  },
  {
   "cell_type": "code",
   "execution_count": 11,
   "id": "3ee17dc8",
   "metadata": {
    "scrolled": true
   },
   "outputs": [
    {
     "name": "stdout",
     "output_type": "stream",
     "text": [
      "CLUSTER #1\n",
      "Key Features: ['sound', 'quality', 'sound quality', 'voice', 'recognition', 'voice recognition', 'google', 'command']\n",
      "--------------------------------------------------------------------------------\n",
      "CLUSTER #2\n",
      "Key Features: ['bulb', 'asked', 'kept', 'wipro', 'google', 'required', 'gadget', 'mobile']\n",
      "--------------------------------------------------------------------------------\n",
      "CLUSTER #3\n",
      "Key Features: ['voice', 'sound', 'command', 'quality', 'recognition', 'google', 'bulb', 'excellent']\n",
      "--------------------------------------------------------------------------------\n",
      "CLUSTER #4\n",
      "Key Features: ['google', 'assistant', 'google assistant', 'command', 'voice', 'volume', 'say', 'reminder']\n",
      "--------------------------------------------------------------------------------\n"
     ]
    }
   ],
   "source": [
    "NUM_CLUSTERS = 4\n",
    "km = KMeans(n_clusters=NUM_CLUSTERS, max_iter=100, n_init=15, random_state=42).fit(positive_cv_matrix)\n",
    "\n",
    "feature_names = cv.get_feature_names_out()\n",
    "topn_features = 8\n",
    "ordered_centroids = km.cluster_centers_.argsort()[:, ::-1]\n",
    "\n",
    "# get key features for each cluster\n",
    "# get movies belonging to each cluster\n",
    "for cluster_num in range(NUM_CLUSTERS):\n",
    "    key_features = [feature_names[index] for index in ordered_centroids[cluster_num, :topn_features]]\n",
    "    print('CLUSTER #'+str(cluster_num+1))\n",
    "    print('Key Features:', key_features)\n",
    "    print('-'*80)"
   ]
  },
  {
   "cell_type": "code",
   "execution_count": 12,
   "id": "144753f3",
   "metadata": {
    "scrolled": true
   },
   "outputs": [
    {
     "name": "stdout",
     "output_type": "stream",
     "text": [
      "CLUSTER #1\n",
      "Key Features: ['sound', 'quality', 'sound quality', 'voice', 'recognition', 'voice recognition', 'google', 'command']\n",
      "--------------------------------------------------------------------------------\n",
      "CLUSTER #2\n",
      "Key Features: ['google', 'assistant', 'google assistant', 'command', 'voice', 'volume', 'say', 'reminder']\n",
      "--------------------------------------------------------------------------------\n",
      "CLUSTER #3\n",
      "Key Features: ['voice', 'bulb', 'sound', 'google', 'command', 'recognition', 'quality', 'voice recognition']\n",
      "--------------------------------------------------------------------------------\n"
     ]
    }
   ],
   "source": [
    "NUM_CLUSTERS = 3\n",
    "km = KMeans(n_clusters=NUM_CLUSTERS, max_iter=100, n_init=15, random_state=42).fit(positive_cv_matrix)\n",
    "\n",
    "feature_names = cv.get_feature_names_out()\n",
    "topn_features = 8\n",
    "ordered_centroids = km.cluster_centers_.argsort()[:, ::-1]\n",
    "\n",
    "# get key features for each cluster\n",
    "# get movies belonging to each cluster\n",
    "for cluster_num in range(NUM_CLUSTERS):\n",
    "    key_features = [feature_names[index] for index in ordered_centroids[cluster_num, :topn_features]]\n",
    "    print('CLUSTER #'+str(cluster_num+1))\n",
    "    print('Key Features:', key_features)\n",
    "    print('-'*80)"
   ]
  },
  {
   "cell_type": "markdown",
   "id": "2fb093f9",
   "metadata": {},
   "source": [
    "# Cluster\n",
    "\n",
    ">### 3 Clusters can be made for better understanding with different qualities of the product.\n",
    ">##### Cluster 1 - sound quality and voice recognition features, tell about how Alexa is good in communicating compaed to its competitor, Google\n",
    ">##### Cluster 2 - This cluster talks about comparasion of Alexa with Google Assistant feature wise, say about reminder tasks.\n",
    ">##### Cluster 3 - This cluster talks about the integration of smart lights with Alexa and the ease of life experiences"
   ]
  },
  {
   "cell_type": "markdown",
   "id": "cd342fe5",
   "metadata": {},
   "source": [
    "# Topic modelling - Positive Sentiment"
   ]
  },
  {
   "cell_type": "code",
   "execution_count": 13,
   "id": "b8a5dee4",
   "metadata": {
    "scrolled": true
   },
   "outputs": [
    {
     "name": "stdout",
     "output_type": "stream",
     "text": [
      "TOPIC 1:\n",
      "['quality', 'enjoy', 'able', 'talk', 'control', 'update', 'playing', 'kid', 'language', 'sound']\n",
      "----------------------------------------------------------------------------------------------------\n",
      "TOPIC 2:\n",
      "['member', 'voice recognition', 'hai', 'sound', 'recognition', 'prime', 'battery', 'integration', 'bulb', 'voice']\n",
      "----------------------------------------------------------------------------------------------------\n",
      "TOPIC 3:\n",
      "['bluetooth', 'google mini', 'mini', 'voice command', 'excellent', 'sound', 'bulb', 'google', 'command', 'voice']\n",
      "----------------------------------------------------------------------------------------------------\n",
      "TOPIC 4:\n",
      "['bass', 'listen', 'assistant', 'voice recognition', 'recognition', 'google', 'voice', 'sound quality', 'quality', 'sound']\n",
      "----------------------------------------------------------------------------------------------------\n",
      "TOPIC 5:\n",
      "['mobile', 'app', 'power', 'voice', 'money', 'high', 'experience', 'issue', 'volume', 'lot']\n",
      "----------------------------------------------------------------------------------------------------\n"
     ]
    }
   ],
   "source": [
    "from sklearn.decomposition import LatentDirichletAllocation\n",
    "\n",
    "# Run LDA model\n",
    "lda = LatentDirichletAllocation(n_components=5, random_state=42)\n",
    "lda.fit(positive_cv_matrix)\n",
    "\n",
    "# Print top words for each topic\n",
    "for idx, topic in enumerate(lda.components_):\n",
    "    print(f\"TOPIC {idx+1}:\")\n",
    "    print([cv.get_feature_names()[i] for i in topic.argsort()[-10:]])\n",
    "    print('-'*100)\n"
   ]
  },
  {
   "cell_type": "markdown",
   "id": "d8368780",
   "metadata": {},
   "source": [
    "# The topics - Positive Sentiment\n",
    "\n",
    ">### The positive reviews majorly talk about 4 topis, mainly consisting:\n",
    "\n",
    ">#### topic 1 - enjoying conversation with alexa + child friendliness\n",
    ">#### topic 2 - voice recognition and voice command features\n",
    ">#### topic 3 - comparasion with competitors\n",
    ">#### topic 4 - sound quality and bass\n",
    ">#### topic 5 - mobile app capabilities"
   ]
  },
  {
   "cell_type": "code",
   "execution_count": 14,
   "id": "05429680",
   "metadata": {},
   "outputs": [
    {
     "data": {
      "text/html": [
       "<div>\n",
       "<style scoped>\n",
       "    .dataframe tbody tr th:only-of-type {\n",
       "        vertical-align: middle;\n",
       "    }\n",
       "\n",
       "    .dataframe tbody tr th {\n",
       "        vertical-align: top;\n",
       "    }\n",
       "\n",
       "    .dataframe thead th {\n",
       "        text-align: right;\n",
       "    }\n",
       "</style>\n",
       "<table border=\"1\" class=\"dataframe\">\n",
       "  <thead>\n",
       "    <tr style=\"text-align: right;\">\n",
       "      <th></th>\n",
       "      <th>Location</th>\n",
       "      <th>Date</th>\n",
       "      <th>Rating</th>\n",
       "      <th>Manual Sentiment</th>\n",
       "      <th>Review</th>\n",
       "      <th>Sentiment</th>\n",
       "      <th>topic</th>\n",
       "    </tr>\n",
       "  </thead>\n",
       "  <tbody>\n",
       "    <tr>\n",
       "      <th>0</th>\n",
       "      <td>India</td>\n",
       "      <td>2023-03-05</td>\n",
       "      <td>4</td>\n",
       "      <td>neutral</td>\n",
       "      <td>The sound is great. Integration of smart devic...</td>\n",
       "      <td>Positive</td>\n",
       "      <td>comparasion with competitors</td>\n",
       "    </tr>\n",
       "    <tr>\n",
       "      <th>1</th>\n",
       "      <td>India</td>\n",
       "      <td>2023-02-26</td>\n",
       "      <td>4</td>\n",
       "      <td>neutral</td>\n",
       "      <td>I just wish it had a backup option which can l...</td>\n",
       "      <td>Positive</td>\n",
       "      <td>voice command features</td>\n",
       "    </tr>\n",
       "    <tr>\n",
       "      <th>2</th>\n",
       "      <td>India</td>\n",
       "      <td>2023-03-02</td>\n",
       "      <td>4</td>\n",
       "      <td>neutral</td>\n",
       "      <td>Only needs live redio</td>\n",
       "      <td>Positive</td>\n",
       "      <td>enjoying conversation with alexa</td>\n",
       "    </tr>\n",
       "    <tr>\n",
       "      <th>3</th>\n",
       "      <td>India</td>\n",
       "      <td>2023-02-26</td>\n",
       "      <td>4</td>\n",
       "      <td>positive</td>\n",
       "      <td>Product is of good quality, as per the specs</td>\n",
       "      <td>Positive</td>\n",
       "      <td>sound quality and bass</td>\n",
       "    </tr>\n",
       "    <tr>\n",
       "      <th>4</th>\n",
       "      <td>India</td>\n",
       "      <td>2023-02-20</td>\n",
       "      <td>5</td>\n",
       "      <td>positive</td>\n",
       "      <td>There remains something quite futuristic about...</td>\n",
       "      <td>Positive</td>\n",
       "      <td>comparasion with competitors</td>\n",
       "    </tr>\n",
       "  </tbody>\n",
       "</table>\n",
       "</div>"
      ],
      "text/plain": [
       "  Location       Date  Rating Manual Sentiment  \\\n",
       "0    India 2023-03-05       4          neutral   \n",
       "1    India 2023-02-26       4          neutral   \n",
       "2    India 2023-03-02       4          neutral   \n",
       "3    India 2023-02-26       4         positive   \n",
       "4    India 2023-02-20       5         positive   \n",
       "\n",
       "                                              Review Sentiment  \\\n",
       "0  The sound is great. Integration of smart devic...  Positive   \n",
       "1  I just wish it had a backup option which can l...  Positive   \n",
       "2                              Only needs live redio  Positive   \n",
       "3       Product is of good quality, as per the specs  Positive   \n",
       "4  There remains something quite futuristic about...  Positive   \n",
       "\n",
       "                              topic  \n",
       "0      comparasion with competitors  \n",
       "1            voice command features  \n",
       "2  enjoying conversation with alexa  \n",
       "3            sound quality and bass  \n",
       "4      comparasion with competitors  "
      ]
     },
     "execution_count": 14,
     "metadata": {},
     "output_type": "execute_result"
    }
   ],
   "source": [
    "# Assign topics to each document\n",
    "topic_assignment = lda.transform(positive_cv_matrix)\n",
    "df_positive['topic'] = topic_assignment.argmax(axis=1) + 1\n",
    "df_positive['topic'] = df_positive['topic'].map({1: 'enjoying conversation with alexa', 2: 'voice command features', \n",
    "                                                 3: 'comparasion with competitors', 4: 'sound quality and bass',\n",
    "                                                 5: 'mobile app capabilities'})\n",
    "df_positive.head()"
   ]
  },
  {
   "cell_type": "code",
   "execution_count": 15,
   "id": "4e66a91e",
   "metadata": {
    "scrolled": true
   },
   "outputs": [
    {
     "data": {
      "text/plain": [
       "<AxesSubplot:>"
      ]
     },
     "execution_count": 15,
     "metadata": {},
     "output_type": "execute_result"
    },
    {
     "data": {
      "image/png": "[encoded data removed]",
      "text/plain": [
       "<Figure size 300x300 with 1 Axes>"
      ]
     },
     "metadata": {},
     "output_type": "display_data"
    }
   ],
   "source": [
    "df_positive['topic'].value_counts().plot(kind='pie', ylabel='', figsize=(3,3), autopct='%1.1f%%')"
   ]
  },
  {
   "cell_type": "code",
   "execution_count": null,
   "id": "ca8f604c",
   "metadata": {},
   "outputs": [],
   "source": []
  },
  {
   "cell_type": "code",
   "execution_count": null,
   "id": "ca31f853",
   "metadata": {},
   "outputs": [],
   "source": []
  },
  {
   "cell_type": "markdown",
   "id": "3e234547",
   "metadata": {},
   "source": [
    "# Clustering - Negative Sentiment"
   ]
  },
  {
   "cell_type": "code",
   "execution_count": 16,
   "id": "7f3724eb",
   "metadata": {},
   "outputs": [],
   "source": [
    "stop_words = nltk.corpus.stopwords.words('english')\n",
    "additional_stop_words = ['use', 'alexa', 'echo', 'dot', 'amazon', 'good', 'smart', \n",
    "                         'speaker', 'product', 'device', 'work', 'need',\n",
    "                         'like', 'dont', 'thing', 'time', 'amazing', 'awesome',\n",
    "                         'buy', 'best', 'great', 'nice', 'song', 'day', 'really',\n",
    "                         'month', 'better', 'using', 'doesnt', 'got', 'super',\n",
    "                         'play', 'useful', 'feature', 'way', 'make', 'value', \n",
    "                         'happy', 'new', 'used', 'price', 'gen', 'user', 'worth',\n",
    "                         'love', 'review', 'home', 'working', 'item', 'thanks',\n",
    "                         'superb', 'year', 'know', 'fine', 'loved', 'small',\n",
    "                         'bad', 'worst', 'poor', 'disappointed', 'ask', 'help', \n",
    "                         'low', 'ask', 'say', 'getting', 'tell', 'lot', 'want',\n",
    "                         'response', 'account', 'unable', 'selection', 'pin', \n",
    "                         'long', 'wrong', 'aaps', 'aap']\n",
    "stop_words.extend(additional_stop_words)\n",
    "\n",
    "normalize_corpus = np.vectorize(preprocess)\n",
    "\n",
    "negative_corpus = normalize_corpus(list(df_negative['Review']))"
   ]
  },
  {
   "cell_type": "code",
   "execution_count": 17,
   "id": "a29ba264",
   "metadata": {},
   "outputs": [
    {
     "name": "stdout",
     "output_type": "stream",
     "text": [
      "(71, 1265)\n"
     ]
    }
   ],
   "source": [
    "from sklearn.feature_extraction.text import CountVectorizer\n",
    "\n",
    "# taking 5 for min_df and 0.9 as max_df as dataset is small.\n",
    "cv = CountVectorizer(ngram_range=(1, 2), min_df=1, max_df=0.95, stop_words='english')\n",
    "\n",
    "# positive_cv_matrix = cv.fit_transform(positive_corpus)\n",
    "negative_cv_matrix = cv.fit_transform(negative_corpus)\n",
    "\n",
    "print(negative_cv_matrix.shape)"
   ]
  },
  {
   "cell_type": "code",
   "execution_count": 18,
   "id": "d6d43e54",
   "metadata": {},
   "outputs": [
    {
     "data": {
      "image/png": "[encoded data removed]",
      "text/plain": [
       "<Figure size 640x480 with 1 Axes>"
      ]
     },
     "metadata": {},
     "output_type": "display_data"
    }
   ],
   "source": [
    "from sklearn.cluster import KMeans\n",
    "\n",
    "min_range = 2\n",
    "max_range = 10\n",
    "\n",
    "# making elbow chart for finding K\n",
    "css = [] \n",
    "for i in range(min_range, max_range): \n",
    "    kmeans = KMeans(n_clusters=i, max_iter=100, n_init=10, random_state=42).fit(negative_cv_matrix)\n",
    "    css.append(kmeans.inertia_)\n",
    "    \n",
    "import matplotlib.pyplot as plt\n",
    "plt.plot(range(min_range, max_range), css, '-o')\n",
    "plt.xlabel('Number of clusters')\n",
    "plt.ylabel('CSS')\n",
    "plt.show()"
   ]
  },
  {
   "cell_type": "code",
   "execution_count": 19,
   "id": "dbef96b2",
   "metadata": {},
   "outputs": [
    {
     "data": {
      "text/plain": [
       "[[3, -160.08426501035206],\n",
       " [4, -137.52791986359853],\n",
       " [5, -74.3496488147498],\n",
       " [6, -13.96630483943909],\n",
       " [7, -86.85757575757543],\n",
       " [8, -30.75937500000009],\n",
       " [9, -45.640625]]"
      ]
     },
     "execution_count": 19,
     "metadata": {},
     "output_type": "execute_result"
    }
   ],
   "source": [
    "css_diff = []\n",
    "\n",
    "for i in range(len(css)-1):\n",
    "    css_diff.append([i+3,css[i+1]-css[i]])\n",
    "\n",
    "css_diff"
   ]
  },
  {
   "cell_type": "code",
   "execution_count": 20,
   "id": "a667261a",
   "metadata": {
    "scrolled": false
   },
   "outputs": [
    {
     "name": "stdout",
     "output_type": "stream",
     "text": [
      "CLUSTER #1\n",
      "Key Features: ['sound', 'quality', 'voice', 'music', 'power', 'connect', 'battery', 'sound quality']\n",
      "--------------------------------------------------------------------------------\n",
      "CLUSTER #2\n",
      "Key Features: ['warranty', 'service', 'policy', 'company', 'excuse', 'partner', 'lockdown', 'service warranty']\n",
      "--------------------------------------------------------------------------------\n",
      "CLUSTER #3\n",
      "Key Features: ['reminder', 'voice', 'search', 'profanity', 'case', 'turn saying', 'turn', 'plan']\n",
      "--------------------------------------------------------------------------------\n",
      "CLUSTER #4\n",
      "Key Features: ['music', 'resting', 'hungama', 'gaana hungama', 'reset', 'wifi', 'gaana', 'table']\n",
      "--------------------------------------------------------------------------------\n"
     ]
    }
   ],
   "source": [
    "NUM_CLUSTERS = 4\n",
    "km = KMeans(n_clusters=NUM_CLUSTERS, max_iter=100, n_init=15, random_state=42).fit(negative_cv_matrix)\n",
    "\n",
    "feature_names = cv.get_feature_names_out()\n",
    "topn_features = 8\n",
    "ordered_centroids = km.cluster_centers_.argsort()[:, ::-1]\n",
    "\n",
    "# get key features for each cluster\n",
    "# get movies belonging to each cluster\n",
    "for cluster_num in range(NUM_CLUSTERS):\n",
    "    key_features = [feature_names[index] for index in ordered_centroids[cluster_num, :topn_features]]\n",
    "    print('CLUSTER #'+str(cluster_num+1))\n",
    "    print('Key Features:', key_features)\n",
    "    print('-'*80)"
   ]
  },
  {
   "cell_type": "markdown",
   "id": "183652c0",
   "metadata": {},
   "source": [
    "# Cluster\n",
    "\n",
    ">### 4 Clusters can be made for better understanding with different drawbacks of the product.\n",
    ">##### Cluster 1 - sound quality issues and absence of battery, tells that consumers expect better sound performance from Alexa and prefer a wireless battery powered product.\n",
    ">##### Cluster 2 - This cluster talks about warranty and policy issues.\n",
    ">##### Cluster 3 - This cluster talks about communication issues with Alexa\n",
    ">##### Cluster 4 - This cluster talks about different music streaming providers and the absense of these providers in the product."
   ]
  },
  {
   "cell_type": "markdown",
   "id": "94a48499",
   "metadata": {},
   "source": [
    "# Topic modelling - Negative Sentiment"
   ]
  },
  {
   "cell_type": "code",
   "execution_count": 21,
   "id": "b911e420",
   "metadata": {
    "scrolled": true
   },
   "outputs": [
    {
     "name": "stdout",
     "output_type": "stream",
     "text": [
      "TOPIC 1:\n",
      "['connected', 'reset', 'money', 'support', 'issue', 'purchased', 'wifi', 'bulb', 'youtube', 'music']\n",
      "----------------------------------------------------------------------------------------------------\n",
      "TOPIC 2:\n",
      "['radio', 'old', 'quality', 'spotify', 'policy', 'playing', 'connect', 'google', 'service', 'warranty']\n",
      "----------------------------------------------------------------------------------------------------\n",
      "TOPIC 3:\n",
      "['update', 'answer', 'repair', 'purchased', 'usage', 'search', 'sound', 'charger', 'reminder', 'voice']\n",
      "----------------------------------------------------------------------------------------------------\n",
      "TOPIC 4:\n",
      "['bluetooth', 'command', 'problem', 'plug', 'battery', 'sound quality', 'voice', 'power', 'quality', 'sound']\n",
      "----------------------------------------------------------------------------------------------------\n"
     ]
    }
   ],
   "source": [
    "from sklearn.decomposition import LatentDirichletAllocation\n",
    "\n",
    "# Run LDA model\n",
    "lda = LatentDirichletAllocation(n_components=4, random_state=42)\n",
    "lda.fit(negative_cv_matrix)\n",
    "\n",
    "# Print top words for each topic\n",
    "for idx, topic in enumerate(lda.components_):\n",
    "    print(f\"TOPIC {idx+1}:\")\n",
    "    print([cv.get_feature_names_out()[i] for i in topic.argsort()[-10:]])\n",
    "    print('-'*100)\n",
    "    "
   ]
  },
  {
   "cell_type": "markdown",
   "id": "ce202b0b",
   "metadata": {},
   "source": [
    "# The topics - Negative Sentiment\n",
    "\n",
    ">### The negative reviews majorly talk about 4 topis, mainly consisting:\n",
    "\n",
    ">#### topic 1 - connectivity issues\n",
    ">#### topic 2 - issues with music playing\n",
    ">#### topic 3 - issue with update and repair\n",
    ">#### topic 4 - issue with communication with Alexa"
   ]
  },
  {
   "cell_type": "code",
   "execution_count": 22,
   "id": "5e883d98",
   "metadata": {},
   "outputs": [
    {
     "data": {
      "text/html": [
       "<div>\n",
       "<style scoped>\n",
       "    .dataframe tbody tr th:only-of-type {\n",
       "        vertical-align: middle;\n",
       "    }\n",
       "\n",
       "    .dataframe tbody tr th {\n",
       "        vertical-align: top;\n",
       "    }\n",
       "\n",
       "    .dataframe thead th {\n",
       "        text-align: right;\n",
       "    }\n",
       "</style>\n",
       "<table border=\"1\" class=\"dataframe\">\n",
       "  <thead>\n",
       "    <tr style=\"text-align: right;\">\n",
       "      <th></th>\n",
       "      <th>Location</th>\n",
       "      <th>Date</th>\n",
       "      <th>Rating</th>\n",
       "      <th>Manual Sentiment</th>\n",
       "      <th>Review</th>\n",
       "      <th>Sentiment</th>\n",
       "      <th>topic</th>\n",
       "    </tr>\n",
       "  </thead>\n",
       "  <tbody>\n",
       "    <tr>\n",
       "      <th>13</th>\n",
       "      <td>India</td>\n",
       "      <td>2023-01-21</td>\n",
       "      <td>4</td>\n",
       "      <td>negative</td>\n",
       "      <td>My device is not working , it's one year old a...</td>\n",
       "      <td>Negative</td>\n",
       "      <td>issue with communication with Alexa</td>\n",
       "    </tr>\n",
       "    <tr>\n",
       "      <th>31</th>\n",
       "      <td>India</td>\n",
       "      <td>2022-12-10</td>\n",
       "      <td>4</td>\n",
       "      <td>neutral</td>\n",
       "      <td>LikeReally a good product clear sound quick re...</td>\n",
       "      <td>Negative</td>\n",
       "      <td>issue with update and repair</td>\n",
       "    </tr>\n",
       "    <tr>\n",
       "      <th>89</th>\n",
       "      <td>India</td>\n",
       "      <td>2022-12-21</td>\n",
       "      <td>5</td>\n",
       "      <td>negative</td>\n",
       "      <td>We started using this product since April  202...</td>\n",
       "      <td>Negative</td>\n",
       "      <td>issue with communication with Alexa</td>\n",
       "    </tr>\n",
       "    <tr>\n",
       "      <th>100</th>\n",
       "      <td>India</td>\n",
       "      <td>2022-10-24</td>\n",
       "      <td>4</td>\n",
       "      <td>neutral</td>\n",
       "      <td>Smart bulb setup was not easy</td>\n",
       "      <td>Negative</td>\n",
       "      <td>issue with communication with Alexa</td>\n",
       "    </tr>\n",
       "    <tr>\n",
       "      <th>105</th>\n",
       "      <td>India</td>\n",
       "      <td>2023-01-02</td>\n",
       "      <td>5</td>\n",
       "      <td>neutral</td>\n",
       "      <td>Average product</td>\n",
       "      <td>Negative</td>\n",
       "      <td>issue with communication with Alexa</td>\n",
       "    </tr>\n",
       "  </tbody>\n",
       "</table>\n",
       "</div>"
      ],
      "text/plain": [
       "    Location       Date  Rating Manual Sentiment  \\\n",
       "13     India 2023-01-21       4         negative   \n",
       "31     India 2022-12-10       4          neutral   \n",
       "89     India 2022-12-21       5         negative   \n",
       "100    India 2022-10-24       4          neutral   \n",
       "105    India 2023-01-02       5          neutral   \n",
       "\n",
       "                                                Review Sentiment  \\\n",
       "13   My device is not working , it's one year old a...  Negative   \n",
       "31   LikeReally a good product clear sound quick re...  Negative   \n",
       "89   We started using this product since April  202...  Negative   \n",
       "100                      Smart bulb setup was not easy  Negative   \n",
       "105                                    Average product  Negative   \n",
       "\n",
       "                                   topic  \n",
       "13   issue with communication with Alexa  \n",
       "31          issue with update and repair  \n",
       "89   issue with communication with Alexa  \n",
       "100  issue with communication with Alexa  \n",
       "105  issue with communication with Alexa  "
      ]
     },
     "execution_count": 22,
     "metadata": {},
     "output_type": "execute_result"
    }
   ],
   "source": [
    "# Assign topics to each document\n",
    "topic_assignment = lda.transform(negative_cv_matrix)\n",
    "df_negative['topic'] = topic_assignment.argmax(axis=1) + 1\n",
    "df_negative['topic'] = df_negative['topic'].map({1: 'connectivity issues', 2: 'issues with music playing', \n",
    "                                                 3: 'issue with update and repair', 4: 'issue with communication with Alexa'})\n",
    "df_negative.head()"
   ]
  },
  {
   "cell_type": "code",
   "execution_count": 23,
   "id": "20783b44",
   "metadata": {
    "scrolled": true
   },
   "outputs": [
    {
     "data": {
      "text/plain": [
       "<AxesSubplot:>"
      ]
     },
     "execution_count": 23,
     "metadata": {},
     "output_type": "execute_result"
    },
    {
     "data": {
      "image/png": "[encoded data removed]",
      "text/plain": [
       "<Figure size 300x300 with 1 Axes>"
      ]
     },
     "metadata": {},
     "output_type": "display_data"
    }
   ],
   "source": [
    "df_negative['topic'].value_counts().plot(kind='pie', ylabel='', figsize=(3,3), autopct='%1.1f%%')"
   ]
  },
  {
   "cell_type": "markdown",
   "id": "335b63ce",
   "metadata": {},
   "source": [
    "***"
   ]
  },
  {
   "cell_type": "markdown",
   "id": "23a0d984",
   "metadata": {},
   "source": [
    "___"
   ]
  },
  {
   "cell_type": "markdown",
   "id": "c3570f36",
   "metadata": {},
   "source": [
    "# Phase 2\n",
    ">### 25% Recent Reviews"
   ]
  },
  {
   "cell_type": "code",
   "execution_count": 24,
   "id": "c1a757fb",
   "metadata": {},
   "outputs": [],
   "source": [
    "df_positive = df_positive.sort_values(by=['Date'], ascending=False)[:round(len(df_positive)*.25)]\n",
    "df_negative = df_negative.sort_values(by=['Date'], ascending=False)[:round(len(df_positive)*.25)]"
   ]
  },
  {
   "cell_type": "code",
   "execution_count": 25,
   "id": "3809be83",
   "metadata": {},
   "outputs": [],
   "source": [
    "positive_corpus = normalize_corpus(list(df_positive['Review']))"
   ]
  },
  {
   "cell_type": "code",
   "execution_count": 26,
   "id": "8b35c333",
   "metadata": {},
   "outputs": [
    {
     "name": "stdout",
     "output_type": "stream",
     "text": [
      "(142, 1338)\n"
     ]
    }
   ],
   "source": [
    "from sklearn.feature_extraction.text import CountVectorizer\n",
    "\n",
    "# taking 1 for min_df and 0.9 as max_df as dataset is small.\n",
    "cv = CountVectorizer(ngram_range=(1, 2), min_df=1, max_df=0.98, stop_words='english')\n",
    "\n",
    "positive_cv_matrix = cv.fit_transform(positive_corpus)\n",
    "# negative_cv_matrix = cv.fit_transform(negative_corpus)\n",
    "\n",
    "print(positive_cv_matrix.shape)"
   ]
  },
  {
   "cell_type": "code",
   "execution_count": 27,
   "id": "e462382d",
   "metadata": {},
   "outputs": [
    {
     "data": {
      "image/png": "[encoded data removed]",
      "text/plain": [
       "<Figure size 640x480 with 1 Axes>"
      ]
     },
     "metadata": {},
     "output_type": "display_data"
    }
   ],
   "source": [
    "from sklearn.cluster import KMeans\n",
    "\n",
    "min_range = 2\n",
    "max_range = 10\n",
    "\n",
    "# making elbow chart for finding K\n",
    "css = [] \n",
    "for i in range(min_range, max_range): \n",
    "    kmeans = KMeans(n_clusters=i, max_iter=100, n_init=10, random_state=42).fit(positive_cv_matrix)\n",
    "    css.append(kmeans.inertia_)\n",
    "    \n",
    "import matplotlib.pyplot as plt\n",
    "plt.plot(range(min_range, max_range), css, '-o')\n",
    "plt.xlabel('Number of clusters')\n",
    "plt.ylabel('CSS')\n",
    "plt.show()"
   ]
  },
  {
   "cell_type": "code",
   "execution_count": 28,
   "id": "0033d856",
   "metadata": {},
   "outputs": [
    {
     "data": {
      "text/plain": [
       "[[3, -45.15197568389067],\n",
       " [4, -104.42034943473777],\n",
       " [5, -86.20342073448751],\n",
       " [6, -140.50970219782312],\n",
       " [7, -25.467367969086354],\n",
       " [8, -96.8668845315899],\n",
       " [9, -44.38728579325607]]"
      ]
     },
     "execution_count": 28,
     "metadata": {},
     "output_type": "execute_result"
    }
   ],
   "source": [
    "css_diff = []\n",
    "\n",
    "for i in range(len(css)-1):\n",
    "    css_diff.append([i+3,css[i+1]-css[i]])\n",
    "\n",
    "css_diff"
   ]
  },
  {
   "cell_type": "code",
   "execution_count": 29,
   "id": "4ef03075",
   "metadata": {
    "scrolled": false
   },
   "outputs": [
    {
     "name": "stdout",
     "output_type": "stream",
     "text": [
      "CLUSTER #1\n",
      "Key Features: ['sound', 'quality', 'voice', 'sound quality', 'music', 'wifi', 'command', 'money']\n",
      "--------------------------------------------------------------------------------\n",
      "CLUSTER #2\n",
      "Key Features: ['improved', 'remains', 'hearing', 'sound improved', 'sound', 'pro clear', 'pro', 'box']\n",
      "--------------------------------------------------------------------------------\n",
      "CLUSTER #3\n",
      "Key Features: ['upgrade', 'generation', 'version', 'audio', 'popular', 'number', 'music', 'released']\n",
      "--------------------------------------------------------------------------------\n"
     ]
    }
   ],
   "source": [
    "NUM_CLUSTERS = 3\n",
    "km = KMeans(n_clusters=NUM_CLUSTERS, max_iter=100, n_init=15, random_state=42).fit(positive_cv_matrix)\n",
    "\n",
    "feature_names = cv.get_feature_names_out()\n",
    "topn_features = 8\n",
    "ordered_centroids = km.cluster_centers_.argsort()[:, ::-1]\n",
    "\n",
    "# get key features for each cluster\n",
    "# get movies belonging to each cluster\n",
    "for cluster_num in range(NUM_CLUSTERS):\n",
    "    key_features = [feature_names[index] for index in ordered_centroids[cluster_num, :topn_features]]\n",
    "    print('CLUSTER #'+str(cluster_num+1))\n",
    "    print('Key Features:', key_features)\n",
    "    print('-'*80)"
   ]
  },
  {
   "cell_type": "markdown",
   "id": "96e3e7ba",
   "metadata": {},
   "source": [
    "# Cluster\n",
    "\n",
    ">### 3 Clusters can be made from Recent Positive Reviews for better understanding with different features of the product.\n",
    ">##### Cluster 1 - sound quality and network connectivity featues.\n",
    ">##### Cluster 2 - This cluster talks about sound improvement of the product. This tells how the sound quality improved recently as compared to past reviews.\n",
    ">##### Cluster 3 - This cluster talks about an upgrade in the overall experience of the product. This tell that Amazon has improved the product drastically in last years version of the product."
   ]
  },
  {
   "cell_type": "markdown",
   "id": "6a63f555",
   "metadata": {},
   "source": [
    "# Topic modelling - Positive Sentiment"
   ]
  },
  {
   "cell_type": "code",
   "execution_count": 30,
   "id": "9a7861cb",
   "metadata": {
    "scrolled": true
   },
   "outputs": [
    {
     "name": "stdout",
     "output_type": "stream",
     "text": [
      "TOPIC 1:\n",
      "['news', 'service', 'recognition', 'voice recognition', 'wifi', 'music', 'voice', 'sound quality', 'quality', 'sound']\n",
      "----------------------------------------------------------------------------------------------------\n",
      "TOPIC 2:\n",
      "['generation', 'upgrade', 'youtube', 'quality', 'voice', 'command', 'audio', 'money', 'listen', 'music']\n",
      "----------------------------------------------------------------------------------------------------\n",
      "TOPIC 3:\n",
      "['improved', 'music', 'hai', 'wifi', 'experience', 'clear', 'voice command', 'sound', 'command', 'voice']\n",
      "----------------------------------------------------------------------------------------------------\n"
     ]
    }
   ],
   "source": [
    "from sklearn.decomposition import LatentDirichletAllocation\n",
    "\n",
    "# Run LDA model\n",
    "lda = LatentDirichletAllocation(n_components=3, random_state=42)\n",
    "lda.fit(positive_cv_matrix)\n",
    "\n",
    "# Print top words for each topic\n",
    "for idx, topic in enumerate(lda.components_):\n",
    "    print(f\"TOPIC {idx+1}:\")\n",
    "    print([cv.get_feature_names_out()[i] for i in topic.argsort()[-10:]])\n",
    "    print('-'*100)\n"
   ]
  },
  {
   "cell_type": "markdown",
   "id": "dc8b42f8",
   "metadata": {},
   "source": [
    "# The topics - Recent Positive Sentiment\n",
    "\n",
    ">### The positive reviews majorly talk about 4 topis, mainly consisting:\n",
    "\n",
    ">#### topic 1 - technology improvements\n",
    ">> This tells how the product has improved it's voice recognition and sound quality technology in the recent version of the product.\n",
    ">#### topic 2 - speed of online streaming\n",
    ">> This tells how Amazon has improved the connectivity of the product\n",
    ">#### topic 3 - about new version released\n",
    ">> This tells that Amazon is bringing connstant firmware updates on the product."
   ]
  },
  {
   "cell_type": "code",
   "execution_count": 31,
   "id": "3fc6bd8a",
   "metadata": {},
   "outputs": [
    {
     "data": {
      "text/html": [
       "<div>\n",
       "<style scoped>\n",
       "    .dataframe tbody tr th:only-of-type {\n",
       "        vertical-align: middle;\n",
       "    }\n",
       "\n",
       "    .dataframe tbody tr th {\n",
       "        vertical-align: top;\n",
       "    }\n",
       "\n",
       "    .dataframe thead th {\n",
       "        text-align: right;\n",
       "    }\n",
       "</style>\n",
       "<table border=\"1\" class=\"dataframe\">\n",
       "  <thead>\n",
       "    <tr style=\"text-align: right;\">\n",
       "      <th></th>\n",
       "      <th>Location</th>\n",
       "      <th>Date</th>\n",
       "      <th>Rating</th>\n",
       "      <th>Manual Sentiment</th>\n",
       "      <th>Review</th>\n",
       "      <th>Sentiment</th>\n",
       "      <th>topic</th>\n",
       "    </tr>\n",
       "  </thead>\n",
       "  <tbody>\n",
       "    <tr>\n",
       "      <th>0</th>\n",
       "      <td>India</td>\n",
       "      <td>2023-03-05</td>\n",
       "      <td>4</td>\n",
       "      <td>neutral</td>\n",
       "      <td>The sound is great. Integration of smart devic...</td>\n",
       "      <td>Positive</td>\n",
       "      <td>about new version released</td>\n",
       "    </tr>\n",
       "    <tr>\n",
       "      <th>11</th>\n",
       "      <td>India</td>\n",
       "      <td>2023-03-04</td>\n",
       "      <td>3</td>\n",
       "      <td>neutral</td>\n",
       "      <td>I didn't have wifi at home, so i thought it wo...</td>\n",
       "      <td>Positive</td>\n",
       "      <td>about new version released</td>\n",
       "    </tr>\n",
       "    <tr>\n",
       "      <th>9</th>\n",
       "      <td>India</td>\n",
       "      <td>2023-03-03</td>\n",
       "      <td>5</td>\n",
       "      <td>positive</td>\n",
       "      <td>We loved it with the functionality,Catches the...</td>\n",
       "      <td>Positive</td>\n",
       "      <td>technology improvements</td>\n",
       "    </tr>\n",
       "    <tr>\n",
       "      <th>32</th>\n",
       "      <td>India</td>\n",
       "      <td>2023-03-03</td>\n",
       "      <td>3</td>\n",
       "      <td>neutral</td>\n",
       "      <td>This is not a music system but yes it can ente...</td>\n",
       "      <td>Positive</td>\n",
       "      <td>speed of online streaming</td>\n",
       "    </tr>\n",
       "    <tr>\n",
       "      <th>15</th>\n",
       "      <td>India</td>\n",
       "      <td>2023-03-03</td>\n",
       "      <td>5</td>\n",
       "      <td>positive</td>\n",
       "      <td>Excellent product</td>\n",
       "      <td>Positive</td>\n",
       "      <td>technology improvements</td>\n",
       "    </tr>\n",
       "  </tbody>\n",
       "</table>\n",
       "</div>"
      ],
      "text/plain": [
       "   Location       Date  Rating Manual Sentiment  \\\n",
       "0     India 2023-03-05       4          neutral   \n",
       "11    India 2023-03-04       3          neutral   \n",
       "9     India 2023-03-03       5         positive   \n",
       "32    India 2023-03-03       3          neutral   \n",
       "15    India 2023-03-03       5         positive   \n",
       "\n",
       "                                               Review Sentiment  \\\n",
       "0   The sound is great. Integration of smart devic...  Positive   \n",
       "11  I didn't have wifi at home, so i thought it wo...  Positive   \n",
       "9   We loved it with the functionality,Catches the...  Positive   \n",
       "32  This is not a music system but yes it can ente...  Positive   \n",
       "15                                  Excellent product  Positive   \n",
       "\n",
       "                         topic  \n",
       "0   about new version released  \n",
       "11  about new version released  \n",
       "9      technology improvements  \n",
       "32   speed of online streaming  \n",
       "15     technology improvements  "
      ]
     },
     "execution_count": 31,
     "metadata": {},
     "output_type": "execute_result"
    }
   ],
   "source": [
    "# Assign topics to each document\n",
    "topic_assignment = lda.transform(positive_cv_matrix)\n",
    "df_positive['topic'] = topic_assignment.argmax(axis=1) + 1\n",
    "df_positive['topic'] = df_positive['topic'].map({1: 'technology improvements', 2: 'speed of online streaming', 3: 'about new version released'})\n",
    "df_positive.head()"
   ]
  },
  {
   "cell_type": "code",
   "execution_count": 32,
   "id": "67c74e88",
   "metadata": {
    "scrolled": true
   },
   "outputs": [
    {
     "data": {
      "text/plain": [
       "<AxesSubplot:>"
      ]
     },
     "execution_count": 32,
     "metadata": {},
     "output_type": "execute_result"
    },
    {
     "data": {
      "image/png": "[encoded data removed]",
      "text/plain": [
       "<Figure size 300x300 with 1 Axes>"
      ]
     },
     "metadata": {},
     "output_type": "display_data"
    }
   ],
   "source": [
    "df_positive['topic'].value_counts().plot(kind='pie', ylabel='', figsize=(3,3), autopct='%1.1f%%')"
   ]
  },
  {
   "cell_type": "code",
   "execution_count": null,
   "id": "c2d6e0fd",
   "metadata": {},
   "outputs": [],
   "source": []
  },
  {
   "cell_type": "code",
   "execution_count": null,
   "id": "61616611",
   "metadata": {},
   "outputs": [],
   "source": []
  },
  {
   "cell_type": "markdown",
   "id": "f4b7ea6f",
   "metadata": {},
   "source": [
    "# Clustering - Negative Sentiment"
   ]
  },
  {
   "cell_type": "code",
   "execution_count": 33,
   "id": "331f6c0e",
   "metadata": {},
   "outputs": [],
   "source": [
    "negative_corpus = normalize_corpus(list(df_negative['Review']))"
   ]
  },
  {
   "cell_type": "code",
   "execution_count": 34,
   "id": "d6d7105a",
   "metadata": {},
   "outputs": [
    {
     "name": "stdout",
     "output_type": "stream",
     "text": [
      "(36, 209)\n"
     ]
    }
   ],
   "source": [
    "from sklearn.feature_extraction.text import CountVectorizer\n",
    "\n",
    "# taking 5 for min_df and 0.9 as max_df as dataset is small.\n",
    "cv = CountVectorizer(ngram_range=(2, 2), min_df=1, max_df=0.98, stop_words='english')\n",
    "\n",
    "# positive_cv_matrix = cv.fit_transform(positive_corpus)\n",
    "negative_cv_matrix = cv.fit_transform(negative_corpus)\n",
    "\n",
    "print(negative_cv_matrix.shape)"
   ]
  },
  {
   "cell_type": "code",
   "execution_count": 35,
   "id": "b857c41a",
   "metadata": {},
   "outputs": [
    {
     "data": {
      "image/png": "[encoded data removed]",
      "text/plain": [
       "<Figure size 640x480 with 1 Axes>"
      ]
     },
     "metadata": {},
     "output_type": "display_data"
    }
   ],
   "source": [
    "from sklearn.cluster import KMeans\n",
    "\n",
    "min_range = 2\n",
    "max_range = 10\n",
    "\n",
    "# making elbow chart for finding K\n",
    "css = [] \n",
    "for i in range(min_range, max_range): \n",
    "    kmeans = KMeans(n_clusters=i, max_iter=100, n_init=10, random_state=42).fit(negative_cv_matrix)\n",
    "    css.append(kmeans.inertia_)\n",
    "    \n",
    "import matplotlib.pyplot as plt\n",
    "plt.plot(range(min_range, max_range), css, '-o')\n",
    "plt.xlabel('Number of clusters')\n",
    "plt.ylabel('CSS')\n",
    "plt.show()"
   ]
  },
  {
   "cell_type": "code",
   "execution_count": 36,
   "id": "98e96239",
   "metadata": {},
   "outputs": [
    {
     "data": {
      "text/plain": [
       "[[3, -21.461344537815165],\n",
       " [4, -7.913547237076642],\n",
       " [5, -21.408143939393938],\n",
       " [6, -5.950604838709694],\n",
       " [7, -13.6806451612903],\n",
       " [8, -9.72758620689656],\n",
       " [9, -7.922413793103445]]"
      ]
     },
     "execution_count": 36,
     "metadata": {},
     "output_type": "execute_result"
    }
   ],
   "source": [
    "css_diff = []\n",
    "\n",
    "for i in range(len(css)-1):\n",
    "    css_diff.append([i+3,css[i+1]-css[i]])\n",
    "\n",
    "css_diff"
   ]
  },
  {
   "cell_type": "code",
   "execution_count": 37,
   "id": "d5e8d190",
   "metadata": {
    "scrolled": true
   },
   "outputs": [
    {
     "name": "stdout",
     "output_type": "stream",
     "text": [
      "CLUSTER #1\n",
      "Key Features: ['setting catch', 'experience listen', 'google question', 'giving star', 'condition problem', 'question answer', 'properly respond', 'problem google']\n",
      "--------------------------------------------------------------------------------\n",
      "CLUSTER #2\n",
      "Key Features: ['recognise voice', 'sound quality', 'gya etana', 'kaise purchase', 'jio fibre', 'issue recommend', 'irritated simple', 'instrumental instruction']\n",
      "--------------------------------------------------------------------------------\n",
      "CLUSTER #3\n",
      "Key Features: ['money support', 'big smallest', 'router signal', 'end resetting', 'reconfigure connectivity', 'everyday end', 'shifted sleep', 'connectivity failure']\n",
      "--------------------------------------------------------------------------------\n"
     ]
    }
   ],
   "source": [
    "NUM_CLUSTERS = 3\n",
    "km = KMeans(n_clusters=NUM_CLUSTERS, max_iter=100, n_init=15, random_state=42).fit(negative_cv_matrix)\n",
    "\n",
    "feature_names = cv.get_feature_names_out()\n",
    "topn_features = 8\n",
    "ordered_centroids = km.cluster_centers_.argsort()[:, ::-1]\n",
    "\n",
    "# get key features for each cluster\n",
    "# get movies belonging to each cluster\n",
    "for cluster_num in range(NUM_CLUSTERS):\n",
    "    key_features = [feature_names[index] for index in ordered_centroids[cluster_num, :topn_features]]\n",
    "    print('CLUSTER #'+str(cluster_num+1))\n",
    "    print('Key Features:', key_features)\n",
    "    print('-'*80)"
   ]
  },
  {
   "cell_type": "markdown",
   "id": "2ade172d",
   "metadata": {},
   "source": [
    "# Cluster - Recent Negative\n",
    "\n",
    ">### 3 Clusters can be made from Recent Negative Reviews for better understanding with different features of the product.\n",
    ">##### Cluster 1 - poor responses by Alexa\n",
    ">##### Cluster 2 - This cluster talks about voice recognition issues\n",
    ">##### Cluster 3 - This cluster talks about connectivity issues."
   ]
  },
  {
   "cell_type": "markdown",
   "id": "2e6e1c98",
   "metadata": {},
   "source": [
    "# Topic modelling - Negative Sentiment"
   ]
  },
  {
   "cell_type": "code",
   "execution_count": 38,
   "id": "b6893f2f",
   "metadata": {
    "scrolled": true
   },
   "outputs": [
    {
     "name": "stdout",
     "output_type": "stream",
     "text": [
      "TOPIC 1:\n",
      "['sleep router', 'signal true', 'model issue', 'shifted sleep', 'plus big', 'router signal', 'end resetting', 'money support', 'sound quality', 'waste money']\n",
      "----------------------------------------------------------------------------------------------------\n",
      "TOPIC 2:\n",
      "['mic setting', 'question answer', 'setting catch', 'network condition', 'star reason', 'properly respond', 'condition problem', 'respond network', 'answer recommend', 'recognise voice']\n",
      "----------------------------------------------------------------------------------------------------\n"
     ]
    }
   ],
   "source": [
    "from sklearn.decomposition import LatentDirichletAllocation\n",
    "\n",
    "# Run LDA model\n",
    "lda = LatentDirichletAllocation(n_components=2, random_state=42)\n",
    "lda.fit(negative_cv_matrix)\n",
    "\n",
    "# Print top words for each topic\n",
    "for idx, topic in enumerate(lda.components_):\n",
    "    print(f\"TOPIC {idx+1}:\")\n",
    "    print([cv.get_feature_names_out()[i] for i in topic.argsort()[-10:]])\n",
    "    print('-'*100)\n",
    "    "
   ]
  },
  {
   "cell_type": "markdown",
   "id": "92c9e41d",
   "metadata": {},
   "source": [
    "# The topics - Recent Positive Sentiment\n",
    "\n",
    ">### The positive reviews majorly talk about 4 topis, mainly consisting:\n",
    "\n",
    ">#### topic 1 - warranty claim issues\n",
    ">> This tells how the customers are still facing warranty claim issues. This can be a major improvement and focus area for the product.\n",
    ">#### topic 2 - comments saying product is costly\n",
    ">> This tells how Amazon is charging hefty price for it's product."
   ]
  },
  {
   "cell_type": "code",
   "execution_count": 39,
   "id": "c254535a",
   "metadata": {},
   "outputs": [
    {
     "data": {
      "text/html": [
       "<div>\n",
       "<style scoped>\n",
       "    .dataframe tbody tr th:only-of-type {\n",
       "        vertical-align: middle;\n",
       "    }\n",
       "\n",
       "    .dataframe tbody tr th {\n",
       "        vertical-align: top;\n",
       "    }\n",
       "\n",
       "    .dataframe thead th {\n",
       "        text-align: right;\n",
       "    }\n",
       "</style>\n",
       "<table border=\"1\" class=\"dataframe\">\n",
       "  <thead>\n",
       "    <tr style=\"text-align: right;\">\n",
       "      <th></th>\n",
       "      <th>Location</th>\n",
       "      <th>Date</th>\n",
       "      <th>Rating</th>\n",
       "      <th>Manual Sentiment</th>\n",
       "      <th>Review</th>\n",
       "      <th>Sentiment</th>\n",
       "      <th>topic</th>\n",
       "    </tr>\n",
       "  </thead>\n",
       "  <tbody>\n",
       "    <tr>\n",
       "      <th>473</th>\n",
       "      <td>India</td>\n",
       "      <td>2023-03-07</td>\n",
       "      <td>1</td>\n",
       "      <td>negative</td>\n",
       "      <td>My Alexa is not working. Don't buy this produc...</td>\n",
       "      <td>Negative</td>\n",
       "      <td>warranty claim issues</td>\n",
       "    </tr>\n",
       "    <tr>\n",
       "      <th>466</th>\n",
       "      <td>India</td>\n",
       "      <td>2023-03-06</td>\n",
       "      <td>1</td>\n",
       "      <td>negative</td>\n",
       "      <td>One thing is bad .... it's command other's whi...</td>\n",
       "      <td>Negative</td>\n",
       "      <td>comments saying product is costly</td>\n",
       "    </tr>\n",
       "    <tr>\n",
       "      <th>137</th>\n",
       "      <td>India</td>\n",
       "      <td>2023-03-05</td>\n",
       "      <td>2</td>\n",
       "      <td>negative</td>\n",
       "      <td>Reviewing approximately after a year of usage ...</td>\n",
       "      <td>Negative</td>\n",
       "      <td>warranty claim issues</td>\n",
       "    </tr>\n",
       "    <tr>\n",
       "      <th>451</th>\n",
       "      <td>India</td>\n",
       "      <td>2023-03-04</td>\n",
       "      <td>1</td>\n",
       "      <td>negative</td>\n",
       "      <td>I have purchased Alexa only to connect with my...</td>\n",
       "      <td>Negative</td>\n",
       "      <td>comments saying product is costly</td>\n",
       "    </tr>\n",
       "    <tr>\n",
       "      <th>472</th>\n",
       "      <td>India</td>\n",
       "      <td>2023-03-02</td>\n",
       "      <td>3</td>\n",
       "      <td>negative</td>\n",
       "      <td>Echo ki price 2500rs h and charger 2000rs. Mer...</td>\n",
       "      <td>Negative</td>\n",
       "      <td>warranty claim issues</td>\n",
       "    </tr>\n",
       "  </tbody>\n",
       "</table>\n",
       "</div>"
      ],
      "text/plain": [
       "    Location       Date  Rating Manual Sentiment  \\\n",
       "473    India 2023-03-07       1         negative   \n",
       "466    India 2023-03-06       1         negative   \n",
       "137    India 2023-03-05       2         negative   \n",
       "451    India 2023-03-04       1         negative   \n",
       "472    India 2023-03-02       3         negative   \n",
       "\n",
       "                                                Review Sentiment  \\\n",
       "473  My Alexa is not working. Don't buy this produc...  Negative   \n",
       "466  One thing is bad .... it's command other's whi...  Negative   \n",
       "137  Reviewing approximately after a year of usage ...  Negative   \n",
       "451  I have purchased Alexa only to connect with my...  Negative   \n",
       "472  Echo ki price 2500rs h and charger 2000rs. Mer...  Negative   \n",
       "\n",
       "                                 topic  \n",
       "473              warranty claim issues  \n",
       "466  comments saying product is costly  \n",
       "137              warranty claim issues  \n",
       "451  comments saying product is costly  \n",
       "472              warranty claim issues  "
      ]
     },
     "execution_count": 39,
     "metadata": {},
     "output_type": "execute_result"
    }
   ],
   "source": [
    "# Assign topics to each document\n",
    "topic_assignment = lda.transform(negative_cv_matrix)\n",
    "df_negative['topic'] = topic_assignment.argmax(axis=1) + 1\n",
    "df_negative['topic'] = df_negative['topic'].map({1 : 'warranty claim issues', 2 : 'comments saying product is costly'})\n",
    "df_negative.head()"
   ]
  },
  {
   "cell_type": "code",
   "execution_count": 40,
   "id": "db759261",
   "metadata": {
    "scrolled": true
   },
   "outputs": [
    {
     "data": {
      "text/plain": [
       "<AxesSubplot:>"
      ]
     },
     "execution_count": 40,
     "metadata": {},
     "output_type": "execute_result"
    },
    {
     "data": {
      "image/png": "[encoded data removed]",
      "text/plain": [
       "<Figure size 300x300 with 1 Axes>"
      ]
     },
     "metadata": {},
     "output_type": "display_data"
    }
   ],
   "source": [
    "df_negative['topic'].value_counts().plot(kind='pie', ylabel='', figsize=(3,3), autopct='%1.1f%%')"
   ]
  },
  {
   "cell_type": "markdown",
   "id": "7f8ad802",
   "metadata": {},
   "source": [
    "---"
   ]
  },
  {
   "cell_type": "markdown",
   "id": "cdbbf1e1",
   "metadata": {},
   "source": [
    "---"
   ]
  },
  {
   "cell_type": "markdown",
   "id": "e9e34812",
   "metadata": {},
   "source": [
    "# Phase 3"
   ]
  },
  {
   "cell_type": "code",
   "execution_count": 41,
   "id": "544d9af5",
   "metadata": {},
   "outputs": [],
   "source": [
    "df = df.sort_values(by=['Date'], ascending=False)[:round(len(df_positive)*.25)]\n",
    "reviews = df['Review'].values.tolist()"
   ]
  },
  {
   "cell_type": "code",
   "execution_count": 42,
   "id": "8edb2125",
   "metadata": {},
   "outputs": [
    {
     "data": {
      "text/plain": [
       "\"  Its waste of money One thing is bad   it's command other's while its bad for connect home appliances   it's most dangerous It has trouble understanding the voice commands 1 out of 3 times  The placement of mic is not good Reviewing approximately after a year of usage  I didn't have wifi at home, so i thought it would be difficult to connect and operate this echo dot I have purchased Alexa only to connect with my smart LG tv, but it is connecting with it, also I have connected with the support team, they also failed to help me  Worst product for manufacturing and for prices Bad  Earlier I think it may happened due to low internet speed but I have attached this eco with speed og >100 mbps also still facing same issue Not much useful for meBut i bought this for my son to listen to audio books  Disappointed… :-(  The small, puck-shaped design remains but it has been jazzed-up and improved on this 3rd-gen Dot Pros+Clear, solid sound+Improved Alexa capabilities+Budget priceCons-Alexa intelligence is limited U don't have other options for charging Only integrated to few apps savn,hungama no you tube Slows down your phone  Without prime membership it will be useless\""
      ]
     },
     "execution_count": 42,
     "metadata": {},
     "output_type": "execute_result"
    }
   ],
   "source": [
    "negative_sentences = ''\n",
    "\n",
    "for review in reviews:\n",
    "    for blob in review.split('.'):\n",
    "        if(TextBlob(blob).sentiment.polarity < 0):\n",
    "#             print(blob)\n",
    "#             print(TextBlob(blob).sentiment.polarity)\n",
    "            negative_sentences = negative_sentences + ' ' + blob\n",
    "# print('-'*80)\n",
    "negative_sentences"
   ]
  },
  {
   "cell_type": "code",
   "execution_count": 43,
   "id": "20061330",
   "metadata": {},
   "outputs": [
    {
     "name": "stdout",
     "output_type": "stream",
     "text": [
      "(142, 764)\n"
     ]
    }
   ],
   "source": [
    "cv_negative_sentences = cv.fit_transform(positive_corpus)\n",
    "print(cv_negative_sentences.shape)"
   ]
  },
  {
   "cell_type": "code",
   "execution_count": 44,
   "id": "1e56d2e7",
   "metadata": {},
   "outputs": [
    {
     "data": {
      "text/plain": [
       "[(['waste'], -0.2, 0.0, None),\n",
       " (['bad'], -0.6999999999999998, 0.6666666666666666, None),\n",
       " (['other'], -0.125, 0.375, None),\n",
       " (['bad'], -0.6999999999999998, 0.6666666666666666, None),\n",
       " (['most'], 0.5, 0.5, None),\n",
       " (['dangerous'], -0.6, 0.9, None),\n",
       " (['trouble'], -0.2, 0.2, None),\n",
       " (['not', 'good'], -0.35, 0.6000000000000001, None),\n",
       " (['approximately'], -0.4, 0.6, None),\n",
       " (['difficult'], -0.5, 1.0, None),\n",
       " (['only'], 0.0, 1.0, None),\n",
       " (['smart'], 0.21428571428571427, 0.6428571428571429, None),\n",
       " (['failed'], -0.5, 0.3, None),\n",
       " (['worst'], -1.0, 1.0, None),\n",
       " (['bad'], -0.6999999999999998, 0.6666666666666666, None),\n",
       " (['earlier'], 0.0, 0.5, None),\n",
       " (['due'], -0.125, 0.375, None),\n",
       " (['low'], 0.0, 0.3, None),\n",
       " (['same'], 0.0, 0.125, None),\n",
       " (['not', 'much', 'useful'], -0.15, 0.0, None),\n",
       " ([':-('], -0.75, 1.0, 'mood'),\n",
       " (['small'], -0.25, 0.4, None),\n",
       " (['solid'], 0.0, 0.1, None),\n",
       " (['limited'], -0.07142857142857142, 0.14285714285714285, None),\n",
       " (['other'], -0.125, 0.375, None),\n",
       " (['only'], 0.0, 1.0, None),\n",
       " (['few'], -0.2, 0.1, None),\n",
       " (['down'], -0.15555555555555559, 0.2888888888888889, None),\n",
       " (['useless'], -0.5, 0.2, None)]"
      ]
     },
     "execution_count": 44,
     "metadata": {},
     "output_type": "execute_result"
    }
   ],
   "source": [
    "blob = TextBlob(negative_sentences)\n",
    "blist = blob.sentiment_assessments.assessments\n",
    "blist"
   ]
  },
  {
   "cell_type": "code",
   "execution_count": 45,
   "id": "f1d8d185",
   "metadata": {},
   "outputs": [],
   "source": [
    "# nsentence = []\n",
    "# for p in range(len(blob.sentences)):\n",
    "#     if blob.sentences[p].sentiment_assessments.assessments != []:\n",
    "#         pl = blob.sentences[p].sentiment_assessments.assessments[0][1]\n",
    "#         if pl < 0:\n",
    "#             nsentence.append(blob.sentences[p])\n",
    "            \n",
    "# print(nsentence[0:25])"
   ]
  },
  {
   "cell_type": "code",
   "execution_count": 46,
   "id": "d3a6d5ab",
   "metadata": {},
   "outputs": [
    {
     "data": {
      "text/plain": [
       "[['waste'],\n",
       " ['bad'],\n",
       " ['other'],\n",
       " ['bad'],\n",
       " ['dangerous'],\n",
       " ['trouble'],\n",
       " ['not', 'good'],\n",
       " ['approximately'],\n",
       " ['difficult'],\n",
       " ['failed'],\n",
       " ['worst'],\n",
       " ['bad'],\n",
       " ['due'],\n",
       " ['not', 'much', 'useful'],\n",
       " [':-('],\n",
       " ['small'],\n",
       " ['limited'],\n",
       " ['other'],\n",
       " ['few'],\n",
       " ['down'],\n",
       " ['useless']]"
      ]
     },
     "execution_count": 46,
     "metadata": {},
     "output_type": "execute_result"
    }
   ],
   "source": [
    "senti_neg = []\n",
    "for i in range(len(blist)):\n",
    "    plt = blist[i][1]\n",
    "    if plt < 0:\n",
    "        senti_neg.append(blist[i][0])\n",
    "        \n",
    "senti_neg"
   ]
  },
  {
   "cell_type": "code",
   "execution_count": 47,
   "id": "1107bcea",
   "metadata": {},
   "outputs": [
    {
     "data": {
      "text/plain": [
       "['waste',\n",
       " 'bad',\n",
       " 'other',\n",
       " 'bad',\n",
       " 'dangerous',\n",
       " 'trouble',\n",
       " 'not',\n",
       " 'good',\n",
       " 'approximately',\n",
       " 'difficult',\n",
       " 'failed',\n",
       " 'worst',\n",
       " 'bad',\n",
       " 'due',\n",
       " 'not',\n",
       " 'much',\n",
       " 'useful',\n",
       " ':-(',\n",
       " 'small',\n",
       " 'limited',\n",
       " 'other',\n",
       " 'few',\n",
       " 'down',\n",
       " 'useless']"
      ]
     },
     "execution_count": 47,
     "metadata": {},
     "output_type": "execute_result"
    }
   ],
   "source": [
    "nsenti = []\n",
    "for i in range(len(senti_neg)):\n",
    "    nlist = senti_neg[i]\n",
    "    for j in range(len(nlist)):\n",
    "        nsenti.append(nlist[j])\n",
    "\n",
    "nsenti"
   ]
  },
  {
   "cell_type": "code",
   "execution_count": 48,
   "id": "4c6b3b9d",
   "metadata": {},
   "outputs": [
    {
     "data": {
      "text/plain": [
       "[(('bad',), 3),\n",
       " (('other',), 2),\n",
       " (('not',), 2),\n",
       " (('waste',), 1),\n",
       " (('dangerous',), 1),\n",
       " (('trouble',), 1),\n",
       " (('good',), 1),\n",
       " (('approximately',), 1),\n",
       " (('difficult',), 1),\n",
       " (('failed',), 1),\n",
       " (('worst',), 1),\n",
       " (('due',), 1),\n",
       " (('much',), 1),\n",
       " (('useful',), 1),\n",
       " ((':-(',), 1),\n",
       " (('small',), 1),\n",
       " (('limited',), 1),\n",
       " (('few',), 1),\n",
       " (('down',), 1),\n",
       " (('useless',), 1)]"
      ]
     },
     "execution_count": 48,
     "metadata": {},
     "output_type": "execute_result"
    }
   ],
   "source": [
    "ngram_freq = nltk.FreqDist() #WE INITIALIZED A FREQUENCY COUNTER\n",
    "\n",
    "for ngram in nltk.ngrams(nsenti, 1):\n",
    "    ngram_freq[ngram] += 1\n",
    "ngram_freq.most_common()"
   ]
  },
  {
   "cell_type": "code",
   "execution_count": 49,
   "id": "2d2a46ec",
   "metadata": {},
   "outputs": [
    {
     "data": {
      "image/png": "[encoded data removed]",
      "text/plain": [
       "<Figure size 640x480 with 1 Axes>"
      ]
     },
     "metadata": {},
     "output_type": "display_data"
    },
    {
     "data": {
      "text/plain": [
       "<AxesSubplot:xlabel='Samples', ylabel='Counts'>"
      ]
     },
     "execution_count": 49,
     "metadata": {},
     "output_type": "execute_result"
    }
   ],
   "source": [
    "ngram_freq.plot(30)"
   ]
  },
  {
   "cell_type": "markdown",
   "id": "54b4671f",
   "metadata": {},
   "source": [
    ">#### topic 1 - three words picked\n",
    ">>#### 'bad'\n",
    ">>#### 'not'\n",
    ">>#### 'waste'"
   ]
  },
  {
   "cell_type": "code",
   "execution_count": 53,
   "id": "ce4a5e42",
   "metadata": {},
   "outputs": [
    {
     "name": "stdout",
     "output_type": "stream",
     "text": [
      "TOPIC 1:\n",
      "['understanding voice', 'smart devices', 'mic good', 'times placement', 'ordered trouble', 'sound great', 'placement mic', 'commands times', 'devices ordered', 'trouble understanding']\n",
      "----------------------------------------------------------------------------------------------------\n",
      "TOPIC 2:\n",
      "['looks noticeably', 'little electronic', 'jazzed improved', 'intelligence limited', 'improved alexa', 'improved 3rd', 'hearing responses', 'hard exterior', 'puck shaped', 'model controls']\n",
      "----------------------------------------------------------------------------------------------------\n"
     ]
    }
   ],
   "source": [
    "negative_word_sentences = []\n",
    "\n",
    "for sent in reviews:\n",
    "    if 'bad' in sent:\n",
    "        negative_word_sentences.append(sent)\n",
    "    elif 'not' in sent:\n",
    "        negative_word_sentences.append(sent)\n",
    "    elif 'waste' in sent:\n",
    "        negative_word_sentences.append(sent)\n",
    "\n",
    "cv.fit_transform(negative_word_sentences)\n",
    "\n",
    "lda.fit(cv.fit_transform(negative_word_sentences))\n",
    "\n",
    "# Print top words for each topic\n",
    "for idx, topic in enumerate(lda.components_):\n",
    "    print(f\"TOPIC {idx+1}:\")\n",
    "    print([cv.get_feature_names_out()[i] for i in topic.argsort()[-10:]])\n",
    "    print('-'*100)"
   ]
  },
  {
   "cell_type": "markdown",
   "id": "c31a0f95",
   "metadata": {},
   "source": [
    "# The topics - Recent Positive Sentiment\n",
    "\n",
    ">### The positive reviews majorly talk about 4 topis, mainly consisting:\n",
    "\n",
    ">#### topic 1 - mic placement issues\n",
    ">> This tells how the customers are facing issues with communication bcz of mic issues.\n",
    ">#### topic 2 - limited intelligence\n",
    ">> This tells how consumers are facing limited intelligence in Alexa."
   ]
  },
  {
   "cell_type": "code",
   "execution_count": null,
   "id": "7fb29fd7",
   "metadata": {},
   "outputs": [],
   "source": []
  },
  {
   "cell_type": "code",
   "execution_count": null,
   "id": "2fe685e4",
   "metadata": {},
   "outputs": [],
   "source": []
  },
  {
   "cell_type": "code",
   "execution_count": null,
   "id": "5ec207d0",
   "metadata": {},
   "outputs": [],
   "source": []
  },
  {
   "cell_type": "markdown",
   "id": "743282d1",
   "metadata": {},
   "source": [
    "# Phase 5"
   ]
  },
  {
   "cell_type": "code",
   "execution_count": 54,
   "id": "85170d10",
   "metadata": {
    "scrolled": true
   },
   "outputs": [
    {
     "name": "stdout",
     "output_type": "stream",
     "text": [
      "Accuracy: 0.625\n",
      "Confusion Matrix:\n",
      " [[0 3]\n",
      " [0 5]]\n",
      "Classification Report:\n",
      "               precision    recall  f1-score   support\n",
      "\n",
      "     Neutral       0.00      0.00      0.00         3\n",
      "    Positive       0.62      1.00      0.77         5\n",
      "\n",
      "    accuracy                           0.62         8\n",
      "   macro avg       0.31      0.50      0.38         8\n",
      "weighted avg       0.39      0.62      0.48         8\n",
      "\n"
     ]
    }
   ],
   "source": [
    "from sklearn.feature_extraction.text import CountVectorizer, TfidfVectorizer\n",
    "from sklearn.model_selection import train_test_split\n",
    "from sklearn.pipeline import Pipeline\n",
    "from sklearn.naive_bayes import MultinomialNB\n",
    "from sklearn.metrics import classification_report, confusion_matrix, accuracy_score\n",
    "\n",
    "\n",
    "# Define X and y\n",
    "X = (df['Review'])\n",
    "y = df['Sentiment']\n",
    "\n",
    "# Split the dataset into training and testing set\n",
    "X_train, X_test, y_train, y_test = train_test_split(X, y, test_size=0.2, random_state=42)\n",
    "\n",
    "# Define the pipeline\n",
    "pipeline = Pipeline([\n",
    "    ('tfidf', TfidfVectorizer()),\n",
    "    ('nb', MultinomialNB()),\n",
    "])\n",
    "\n",
    "# Train the model\n",
    "pipeline.fit(X_train, y_train)\n",
    "\n",
    "# Evaluate the model on the testing set\n",
    "y_pred = pipeline.predict(X_test)\n",
    "\n",
    "print(\"Accuracy:\", accuracy_score(y_test, y_pred))\n",
    "print(\"Confusion Matrix:\\n\", confusion_matrix(y_test, y_pred))\n",
    "print(\"Classification Report:\\n\", classification_report(y_test, y_pred))\n"
   ]
  },
  {
   "cell_type": "markdown",
   "id": "1b14ae5c",
   "metadata": {},
   "source": [
    "# Classification \n",
    "\n",
    ">### We have an accuracy of 62% for the model.\n"
   ]
  },
  {
   "cell_type": "code",
   "execution_count": null,
   "id": "defc865b",
   "metadata": {},
   "outputs": [],
   "source": []
  }
 ],
 "metadata": {
  "kernelspec": {
   "display_name": "Python 3 (ipykernel)",
   "language": "python",
   "name": "python3"
  },
  "language_info": {
   "codemirror_mode": {
    "name": "ipython",
    "version": 3
   },
   "file_extension": ".py",
   "mimetype": "text/x-python",
   "name": "python",
   "nbconvert_exporter": "python",
   "pygments_lexer": "ipython3",
   "version": "3.9.13"
  }
 },
 "nbformat": 4,
 "nbformat_minor": 5
}
