{
  "nbformat": 4,
  "nbformat_minor": 0,
  "metadata": {
    "colab": {
      "provenance": [],
      "authorship_tag": "ABX9TyNdyNcei7a1dADlywIg5kaE",
      "include_colab_link": true
    },
    "kernelspec": {
      "name": "python3",
      "display_name": "Python 3"
    },
    "language_info": {
      "name": "python"
    },
    "accelerator": "TPU"
  },
  "cells": [
    {
      "cell_type": "markdown",
      "metadata": {
        "id": "view-in-github",
        "colab_type": "text"
      },
      "source": [
        "<a href=\"https://colab.research.google.com/github/rahuldf/rahuldf.github.io/blob/main/portfolio/projects/gemini_poem_generator.ipynb\" target=\"_parent\"><img src=\"https://colab.research.google.com/assets/colab-badge.svg\" alt=\"Open In Colab\"/></a>"
      ]
    },
    {
      "cell_type": "markdown",
      "metadata": {
        "id": "vRC2HngneEeQ"
      },
      "source": [
        "# Google's GenAI API for generating poems.\n",
        "\n",
        "In this project I make use of the Google's GenAI API (Gemini-Pro Model) to generate poems inspired by Robert Frost. We start with Zero-Shot Prompting and move to Few-Shot Prompting to see improvements in results."
      ]
    },
    {
      "cell_type": "code",
      "execution_count": null,
      "metadata": {
        "id": "TS9l5igubpHO"
      },
      "outputs": [],
      "source": [
        "import google.generativeai as genai\n",
        "\n",
        "# Used to securely store API key\n",
        "from google.colab import userdata"
      ]
    },
    {
      "cell_type": "code",
      "execution_count": null,
      "metadata": {
        "id": "ab9ASynfcIZn"
      },
      "outputs": [],
      "source": [
        "# Using secret API key\n",
        "GOOGLE_API_KEY=userdata.get('GOOGLE_API_KEY')\n",
        "\n",
        "genai.configure(api_key=GOOGLE_API_KEY)"
      ]
    },
    {
      "cell_type": "code",
      "source": [
        "# @title Enter your topic here\n",
        "topic = \"sustainability, reducing the use of plastic and increasing tree plantation\" # @param {type:\"string\"}\n",
        "\n",
        "poet_style = \"Rhythm/Meter: While many modernists wrote in free verse; Frost utilized the more traditional iambic meter to create a more conversational tone. Meter: Frost would experiment with traditional meter, utilizing the structure found in odes, sonnets, heroic couplets, and blank verse.\"\n",
        "\n",
        "poem1 = \"\"\"\n",
        "Title 1: The Road Not Taken\n",
        "Two roads diverged in a yellow wood,\n",
        "And sorry I could not travel both\n",
        "And be one traveler, long I stood\n",
        "And looked down one as far as I could\n",
        "To where it bent in the undergrowth;\n",
        "\n",
        "Then took the other, as just as fair,\n",
        "And having perhaps the better claim\n",
        "Because it was grassy and wanted wear,\n",
        "Though as for that the passing there\n",
        "Had worn them really about the same,\n",
        "\n",
        "And both that morning equally lay\n",
        "In leaves no step had trodden black.\n",
        "Oh, I kept the first for another day!\n",
        "Yet knowing how way leads on to way\n",
        "I doubted if I should ever come back.\n",
        "\n",
        "I shall be telling this with a sigh\n",
        "Somewhere ages and ages hence:\n",
        "Two roads diverged in a wood, and I,\n",
        "I took the one less traveled by,\n",
        "And that has made all the difference.\n",
        "\n",
        "\"\"\"\n",
        "\n",
        "poem2=\"\"\"\n",
        "\n",
        "Title 2: Stopping By Woods On A Snowy Evening\n",
        "Whose woods these are I think I know.\n",
        "His house is in the village, though;\n",
        "He will not see me stopping here\n",
        "To watch his woods fill up with snow.\n",
        "\n",
        "My little horse must think it queer\n",
        "To stop without a farmhouse near\n",
        "Between the woods and frozen lake\n",
        "The darkest evening of the year.\n",
        "\n",
        "He gives his harness bells a shake\n",
        "To ask if there is some mistake.\n",
        "The only other sound's the sweep\n",
        "Of easy wind and downy flake.\n",
        "\n",
        "The woods are lovely, dark and deep,\n",
        "But I have promises to keep,\n",
        "And miles to go before I sleep,\n",
        "And miles to go before I sleep.\n",
        "\n",
        "\"\"\"\n",
        "\n",
        "poem3=\"\"\"\n",
        "\n",
        "Title 3: Fire And Ice Poem by Robert Frost\n",
        "Some say the world will end in fire,\n",
        "Some say in ice.\n",
        "From what I've tasted of desire\n",
        "I hold with those who favor fire.\n",
        "But if it had to perish twice,\n",
        "I think I know enough of hate\n",
        "To say that for destruction ice\n",
        "Is also great\n",
        "And would suffice.\n",
        "\n",
        "\"\"\"\n",
        "\n",
        "poem4=\"\"\"\n",
        "\n",
        "Title 4: Nothing Gold Can Stay Poem by Robert Frost\n",
        "Nature's first green is gold,\n",
        "Her hardest hue to hold.\n",
        "Her early leaf's a flower;\n",
        "But only so an hour.\n",
        "Then leaf subsides to leaf,\n",
        "So Eden sank to grief,\n",
        "So dawn goes down to day\n",
        "Nothing gold can stay.\n",
        "\n",
        "\"\"\"\n",
        "\n",
        "poem5=\"\"\"\n",
        "\n",
        "Title 5: Acquainted With The Night Poem by Robert Frost\n",
        "I have been one acquainted with the night.\n",
        "I have walked out in rain - and back in rain.\n",
        "I have outwalked the furthest city light.\n",
        "\n",
        "I have looked down the saddest city lane.\n",
        "I have passed by the watchman on his beat\n",
        "And dropped my eyes, unwilling to explain.\n",
        "\n",
        "I have stood still and stopped the sound of feet\n",
        "When far away an interrupted cry\n",
        "Came over houses from another street,\n",
        "\n",
        "But not to call me back or say good-bye;\n",
        "And further still at an unearthly height,\n",
        "One luminary clock against the sky\n",
        "\n",
        "Proclaimed the time was neither wrong nor right.\n",
        "I have been one acquainted with the night.\n",
        "\n",
        "\"\"\""
      ],
      "metadata": {
        "cellView": "form",
        "id": "RQJ4VZTJsdNQ"
      },
      "execution_count": null,
      "outputs": []
    },
    {
      "cell_type": "markdown",
      "source": [
        "## Zero-Shot Prompt"
      ],
      "metadata": {
        "id": "RNM94WRRyR7a"
      }
    },
    {
      "cell_type": "code",
      "source": [
        "model = genai.GenerativeModel('gemini-pro')\n",
        "prompt = f\"Inspired by Robert Frost, Write a 4 line poem on the {topic}\"\n",
        "\n",
        "response = model.generate_content(prompt)\n",
        "print(response.text)"
      ],
      "metadata": {
        "colab": {
          "base_uri": "https://localhost:8080/",
          "height": 90
        },
        "id": "beht57PeIXTR",
        "outputId": "2ebd698c-7295-449b-d090-32fceb9bdf15"
      },
      "execution_count": null,
      "outputs": [
        {
          "output_type": "stream",
          "name": "stdout",
          "text": [
            "In nature's embrace, a path we tread,\n",
            "Reducing plastics, planting seeds instead.\n",
            "A sustainable world, our goal to secure,\n",
            "For generations, beauty shall endure.\n"
          ]
        }
      ]
    },
    {
      "cell_type": "markdown",
      "source": [
        "## One-Shot Prompt"
      ],
      "metadata": {
        "id": "x_r9vs2RyVUI"
      }
    },
    {
      "cell_type": "code",
      "source": [
        "model = genai.GenerativeModel('gemini-pro')\n",
        "prompt = f\"Robert Frost Style - {poet_style} \\n\\n Here is a one of his poems: \\n{poem1} \\n\\n Now based on that write a 4 line poem on {topic}\"\n",
        "\n",
        "response = model.generate_content(prompt)\n",
        "print(response.text)"
      ],
      "metadata": {
        "colab": {
          "base_uri": "https://localhost:8080/",
          "height": 90
        },
        "id": "c2OtE_fYcVNt",
        "outputId": "4d3ce0ce-9d2f-4167-8c15-9f612f39d856"
      },
      "execution_count": null,
      "outputs": [
        {
          "output_type": "stream",
          "name": "stdout",
          "text": [
            "In verdant hues, a world beckons bright,\n",
            "Where plastic's grip loosens, trees take flight.\n",
            "With conscious steps, we tread lightly here,\n",
            "Sustaining Earth's beauty, crystal clear.\n"
          ]
        }
      ]
    },
    {
      "cell_type": "markdown",
      "source": [
        "## Few-Shot Prompt"
      ],
      "metadata": {
        "id": "IGm9B_tvyXRt"
      }
    },
    {
      "cell_type": "code",
      "source": [
        "model = genai.GenerativeModel('gemini-pro')\n",
        "prompt = f\"Robert Frost Style - {poet_style} \\n\\n Here are some of his poems: \\n\\n{poem1}\\n\\n{poem2}\\n\\n{poem3}\\n\\n{poem4}\\n\\n{poem5}\\n\\n Now based on that write a 4 line poem on {topic}\"\n",
        "\n",
        "response = model.generate_content(prompt)\n",
        "print(response.text)"
      ],
      "metadata": {
        "colab": {
          "base_uri": "https://localhost:8080/",
          "height": 90
        },
        "id": "wdhErBWHcdKn",
        "outputId": "409bca69-4b5e-4366-d82f-777de33ba213"
      },
      "execution_count": null,
      "outputs": [
        {
          "output_type": "stream",
          "name": "stdout",
          "text": [
            "In plastic's reign, our earth we blight,\n",
            "With endless waste, a dismal sight.\n",
            "Let's plant more trees, their green embrace,\n",
            "Sustains our world, a verdant space.\n"
          ]
        }
      ]
    },
    {
      "cell_type": "code",
      "source": [],
      "metadata": {
        "id": "hptzZFM8cwau"
      },
      "execution_count": null,
      "outputs": []
    }
  ]
}